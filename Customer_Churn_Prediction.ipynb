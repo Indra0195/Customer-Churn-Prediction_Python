{
 "cells": [
  {
   "cell_type": "markdown",
   "id": "f3fc7c73-b024-4474-bd10-375a2b94d44a",
   "metadata": {},
   "source": [
    "# <span style='color:Blue'> **Customer Churn Prediction for an OTT Platform**  </span>"
   ]
  },
  {
   "cell_type": "markdown",
   "id": "b916546c-1c51-457d-817a-802af0d20f8c",
   "metadata": {},
   "source": [
    "### ***Classification Problem***"
   ]
  },
  {
   "cell_type": "markdown",
   "id": "8322a6d5-99a8-4623-ae0b-61ebab0cf35e",
   "metadata": {},
   "source": [
    "#### Problem Statement\n",
    "- NETFLIX is a service providing company that provides customers with a one year subscription plan for their product\n",
    "- The company wants to know if the customers will renew the subscription for the coming year or not"
   ]
  },
  {
   "cell_type": "markdown",
   "id": "994ebc57-664e-49f5-90b6-26d7e08a2b54",
   "metadata": {},
   "source": [
    "#### Data Dictionary\n",
    "\n",
    "- It is the data about data"
   ]
  },
  {
   "cell_type": "markdown",
   "id": "1c8729cc-f082-42c6-ae31-eb736a399293",
   "metadata": {},
   "source": [
    "#### About the Dataset\n",
    "\n",
    "- Year\n",
    "- Customer_id (Unique)\n",
    "- Phone_no\n",
    "- Gender\n",
    "- Age\n",
    "- No of days subscribed - the number of days since the subscription\n",
    "- Multi screen - does the customer have a single/ multiple screen subscription\n",
    "- Mail subscription - customer receive mails or not9-Weeklv mins watched - number of minutes watched weekly\n",
    "- Minimum daily mins - minimum minutes watched\n",
    "- Maximum dailv mins - maximum minutes watched\n",
    "- Weekly nights max mins - number of minutes watched at night time\n",
    "- Videos watched - total number of videos watched\n",
    "- Maximum days inactive - days since inactive\n",
    "- Customer support calls - number of customer support calls\n",
    "- Churn \n",
    "    - 1- Yes\n",
    "    - 0- No"
   ]
  },
  {
   "cell_type": "markdown",
   "id": "8768aae5-b848-41fb-a061-41f8c4ff5013",
   "metadata": {},
   "source": [
    "#### Importing Libraries"
   ]
  },
  {
   "cell_type": "code",
   "execution_count": 3,
   "id": "9a340a24-2bdd-4005-82f1-0095bd8b1794",
   "metadata": {},
   "outputs": [],
   "source": [
    "import numpy as np\n",
    "import pandas as pd\n",
    "import matplotlib.pyplot as plt\n",
    "import seaborn as sns\n",
    "import warnings\n",
    "warnings.filterwarnings('ignore')"
   ]
  },
  {
   "cell_type": "markdown",
   "id": "8170cdce-ff51-40d8-a1be-5934ed3dff71",
   "metadata": {},
   "source": [
    "#### Loading the Dataset"
   ]
  },
  {
   "cell_type": "code",
   "execution_count": 4,
   "id": "a29358fb-246f-4c84-998b-dc9e7d5a9f7e",
   "metadata": {},
   "outputs": [],
   "source": [
    "data = pd.read_csv('OTT Customer Churn data.csv')"
   ]
  },
  {
   "cell_type": "code",
   "execution_count": 5,
   "id": "ae1011c8-44f9-4934-9bab-66e0f4dbb7c0",
   "metadata": {},
   "outputs": [
    {
     "data": {
      "text/html": [
       "<div>\n",
       "<style scoped>\n",
       "    .dataframe tbody tr th:only-of-type {\n",
       "        vertical-align: middle;\n",
       "    }\n",
       "\n",
       "    .dataframe tbody tr th {\n",
       "        vertical-align: top;\n",
       "    }\n",
       "\n",
       "    .dataframe thead th {\n",
       "        text-align: right;\n",
       "    }\n",
       "</style>\n",
       "<table border=\"1\" class=\"dataframe\">\n",
       "  <thead>\n",
       "    <tr style=\"text-align: right;\">\n",
       "      <th></th>\n",
       "      <th>year</th>\n",
       "      <th>customer_id</th>\n",
       "      <th>phone_no</th>\n",
       "      <th>gender</th>\n",
       "      <th>age</th>\n",
       "      <th>no_of_days_subscribed</th>\n",
       "      <th>multi_screen</th>\n",
       "      <th>mail_subscribed</th>\n",
       "      <th>weekly_mins_watched</th>\n",
       "      <th>minimum_daily_mins</th>\n",
       "      <th>maximum_daily_mins</th>\n",
       "      <th>weekly_max_night_mins</th>\n",
       "      <th>videos_watched</th>\n",
       "      <th>maximum_days_inactive</th>\n",
       "      <th>customer_support_calls</th>\n",
       "      <th>churn</th>\n",
       "    </tr>\n",
       "  </thead>\n",
       "  <tbody>\n",
       "    <tr>\n",
       "      <th>0</th>\n",
       "      <td>2015</td>\n",
       "      <td>100198</td>\n",
       "      <td>409-8743</td>\n",
       "      <td>Female</td>\n",
       "      <td>36</td>\n",
       "      <td>62</td>\n",
       "      <td>no</td>\n",
       "      <td>no</td>\n",
       "      <td>148.35</td>\n",
       "      <td>12.2</td>\n",
       "      <td>16.81</td>\n",
       "      <td>82</td>\n",
       "      <td>1</td>\n",
       "      <td>4.0</td>\n",
       "      <td>1</td>\n",
       "      <td>0.0</td>\n",
       "    </tr>\n",
       "    <tr>\n",
       "      <th>1</th>\n",
       "      <td>2015</td>\n",
       "      <td>100643</td>\n",
       "      <td>340-5930</td>\n",
       "      <td>Female</td>\n",
       "      <td>39</td>\n",
       "      <td>149</td>\n",
       "      <td>no</td>\n",
       "      <td>no</td>\n",
       "      <td>294.45</td>\n",
       "      <td>7.7</td>\n",
       "      <td>33.37</td>\n",
       "      <td>87</td>\n",
       "      <td>3</td>\n",
       "      <td>3.0</td>\n",
       "      <td>2</td>\n",
       "      <td>0.0</td>\n",
       "    </tr>\n",
       "    <tr>\n",
       "      <th>2</th>\n",
       "      <td>2015</td>\n",
       "      <td>100756</td>\n",
       "      <td>372-3750</td>\n",
       "      <td>Female</td>\n",
       "      <td>65</td>\n",
       "      <td>126</td>\n",
       "      <td>no</td>\n",
       "      <td>no</td>\n",
       "      <td>87.30</td>\n",
       "      <td>11.9</td>\n",
       "      <td>9.89</td>\n",
       "      <td>91</td>\n",
       "      <td>1</td>\n",
       "      <td>4.0</td>\n",
       "      <td>5</td>\n",
       "      <td>1.0</td>\n",
       "    </tr>\n",
       "    <tr>\n",
       "      <th>3</th>\n",
       "      <td>2015</td>\n",
       "      <td>101595</td>\n",
       "      <td>331-4902</td>\n",
       "      <td>Female</td>\n",
       "      <td>24</td>\n",
       "      <td>131</td>\n",
       "      <td>no</td>\n",
       "      <td>yes</td>\n",
       "      <td>321.30</td>\n",
       "      <td>9.5</td>\n",
       "      <td>36.41</td>\n",
       "      <td>102</td>\n",
       "      <td>4</td>\n",
       "      <td>3.0</td>\n",
       "      <td>3</td>\n",
       "      <td>0.0</td>\n",
       "    </tr>\n",
       "    <tr>\n",
       "      <th>4</th>\n",
       "      <td>2015</td>\n",
       "      <td>101653</td>\n",
       "      <td>351-8398</td>\n",
       "      <td>Female</td>\n",
       "      <td>40</td>\n",
       "      <td>191</td>\n",
       "      <td>no</td>\n",
       "      <td>no</td>\n",
       "      <td>243.00</td>\n",
       "      <td>10.9</td>\n",
       "      <td>27.54</td>\n",
       "      <td>83</td>\n",
       "      <td>7</td>\n",
       "      <td>3.0</td>\n",
       "      <td>1</td>\n",
       "      <td>0.0</td>\n",
       "    </tr>\n",
       "  </tbody>\n",
       "</table>\n",
       "</div>"
      ],
      "text/plain": [
       "   year  customer_id  phone_no  gender  age  no_of_days_subscribed  \\\n",
       "0  2015       100198  409-8743  Female   36                     62   \n",
       "1  2015       100643  340-5930  Female   39                    149   \n",
       "2  2015       100756  372-3750  Female   65                    126   \n",
       "3  2015       101595  331-4902  Female   24                    131   \n",
       "4  2015       101653  351-8398  Female   40                    191   \n",
       "\n",
       "  multi_screen mail_subscribed  weekly_mins_watched  minimum_daily_mins  \\\n",
       "0           no              no               148.35                12.2   \n",
       "1           no              no               294.45                 7.7   \n",
       "2           no              no                87.30                11.9   \n",
       "3           no             yes               321.30                 9.5   \n",
       "4           no              no               243.00                10.9   \n",
       "\n",
       "   maximum_daily_mins  weekly_max_night_mins  videos_watched  \\\n",
       "0               16.81                     82               1   \n",
       "1               33.37                     87               3   \n",
       "2                9.89                     91               1   \n",
       "3               36.41                    102               4   \n",
       "4               27.54                     83               7   \n",
       "\n",
       "   maximum_days_inactive  customer_support_calls  churn  \n",
       "0                    4.0                       1    0.0  \n",
       "1                    3.0                       2    0.0  \n",
       "2                    4.0                       5    1.0  \n",
       "3                    3.0                       3    0.0  \n",
       "4                    3.0                       1    0.0  "
      ]
     },
     "execution_count": 5,
     "metadata": {},
     "output_type": "execute_result"
    }
   ],
   "source": [
    "data.head()"
   ]
  },
  {
   "cell_type": "code",
   "execution_count": 6,
   "id": "4c1665df-8f9d-4be1-ac21-dbdbea40a205",
   "metadata": {},
   "outputs": [
    {
     "data": {
      "text/plain": [
       "(2000, 16)"
      ]
     },
     "execution_count": 6,
     "metadata": {},
     "output_type": "execute_result"
    }
   ],
   "source": [
    "data.shape"
   ]
  },
  {
   "cell_type": "markdown",
   "id": "f4df780e-9430-4eaa-bb96-7802654f52dc",
   "metadata": {},
   "source": [
    "- Observation: We have 2000 rows and 16 columns"
   ]
  },
  {
   "cell_type": "markdown",
   "id": "75f66f12-6323-4a31-af0d-29ebf30145b5",
   "metadata": {},
   "source": [
    "#### EDA - Exploratory Data Analysis\n",
    "\n",
    "- Exploring the data i.e. to know more about data\n",
    "    - Information about the data\n",
    "    - Statistical Measure\n",
    "    - shape\n",
    "    - duplicate values\n",
    "    - null values\n",
    "    - unique values\n",
    "    - outliers\n",
    "    - correlation among columns"
   ]
  },
  {
   "cell_type": "code",
   "execution_count": 7,
   "id": "7235c10e-f11f-455b-900b-5588da464486",
   "metadata": {},
   "outputs": [
    {
     "name": "stdout",
     "output_type": "stream",
     "text": [
      "<class 'pandas.core.frame.DataFrame'>\n",
      "RangeIndex: 2000 entries, 0 to 1999\n",
      "Data columns (total 16 columns):\n",
      " #   Column                  Non-Null Count  Dtype  \n",
      "---  ------                  --------------  -----  \n",
      " 0   year                    2000 non-null   int64  \n",
      " 1   customer_id             2000 non-null   int64  \n",
      " 2   phone_no                2000 non-null   object \n",
      " 3   gender                  1976 non-null   object \n",
      " 4   age                     2000 non-null   int64  \n",
      " 5   no_of_days_subscribed   2000 non-null   int64  \n",
      " 6   multi_screen            2000 non-null   object \n",
      " 7   mail_subscribed         2000 non-null   object \n",
      " 8   weekly_mins_watched     2000 non-null   float64\n",
      " 9   minimum_daily_mins      2000 non-null   float64\n",
      " 10  maximum_daily_mins      2000 non-null   float64\n",
      " 11  weekly_max_night_mins   2000 non-null   int64  \n",
      " 12  videos_watched          2000 non-null   int64  \n",
      " 13  maximum_days_inactive   1972 non-null   float64\n",
      " 14  customer_support_calls  2000 non-null   int64  \n",
      " 15  churn                   1965 non-null   float64\n",
      "dtypes: float64(5), int64(7), object(4)\n",
      "memory usage: 250.1+ KB\n"
     ]
    }
   ],
   "source": [
    "data.info()"
   ]
  },
  {
   "cell_type": "code",
   "execution_count": 8,
   "id": "0a08cfad-8ef6-4a66-8e0f-53de7c9084c8",
   "metadata": {},
   "outputs": [
    {
     "data": {
      "text/html": [
       "<div>\n",
       "<style scoped>\n",
       "    .dataframe tbody tr th:only-of-type {\n",
       "        vertical-align: middle;\n",
       "    }\n",
       "\n",
       "    .dataframe tbody tr th {\n",
       "        vertical-align: top;\n",
       "    }\n",
       "\n",
       "    .dataframe thead th {\n",
       "        text-align: right;\n",
       "    }\n",
       "</style>\n",
       "<table border=\"1\" class=\"dataframe\">\n",
       "  <thead>\n",
       "    <tr style=\"text-align: right;\">\n",
       "      <th></th>\n",
       "      <th>year</th>\n",
       "      <th>customer_id</th>\n",
       "      <th>age</th>\n",
       "      <th>no_of_days_subscribed</th>\n",
       "      <th>weekly_mins_watched</th>\n",
       "      <th>minimum_daily_mins</th>\n",
       "      <th>maximum_daily_mins</th>\n",
       "      <th>weekly_max_night_mins</th>\n",
       "      <th>videos_watched</th>\n",
       "      <th>maximum_days_inactive</th>\n",
       "      <th>customer_support_calls</th>\n",
       "      <th>churn</th>\n",
       "    </tr>\n",
       "  </thead>\n",
       "  <tbody>\n",
       "    <tr>\n",
       "      <th>count</th>\n",
       "      <td>2000.0</td>\n",
       "      <td>2000.000000</td>\n",
       "      <td>2000.00000</td>\n",
       "      <td>2000.000000</td>\n",
       "      <td>2000.000000</td>\n",
       "      <td>2000.000000</td>\n",
       "      <td>2000.000000</td>\n",
       "      <td>2000.000000</td>\n",
       "      <td>2000.000000</td>\n",
       "      <td>1972.000000</td>\n",
       "      <td>2000.000000</td>\n",
       "      <td>1965.000000</td>\n",
       "    </tr>\n",
       "    <tr>\n",
       "      <th>mean</th>\n",
       "      <td>2015.0</td>\n",
       "      <td>554887.157500</td>\n",
       "      <td>38.69050</td>\n",
       "      <td>99.750000</td>\n",
       "      <td>270.178425</td>\n",
       "      <td>10.198700</td>\n",
       "      <td>30.620780</td>\n",
       "      <td>100.415500</td>\n",
       "      <td>4.482500</td>\n",
       "      <td>3.250507</td>\n",
       "      <td>1.547000</td>\n",
       "      <td>0.133333</td>\n",
       "    </tr>\n",
       "    <tr>\n",
       "      <th>std</th>\n",
       "      <td>0.0</td>\n",
       "      <td>261033.690318</td>\n",
       "      <td>10.20641</td>\n",
       "      <td>39.755386</td>\n",
       "      <td>80.551627</td>\n",
       "      <td>2.785519</td>\n",
       "      <td>9.129165</td>\n",
       "      <td>19.529454</td>\n",
       "      <td>2.487728</td>\n",
       "      <td>0.809084</td>\n",
       "      <td>1.315164</td>\n",
       "      <td>0.340021</td>\n",
       "    </tr>\n",
       "    <tr>\n",
       "      <th>min</th>\n",
       "      <td>2015.0</td>\n",
       "      <td>100198.000000</td>\n",
       "      <td>18.00000</td>\n",
       "      <td>1.000000</td>\n",
       "      <td>0.000000</td>\n",
       "      <td>0.000000</td>\n",
       "      <td>0.000000</td>\n",
       "      <td>42.000000</td>\n",
       "      <td>0.000000</td>\n",
       "      <td>0.000000</td>\n",
       "      <td>0.000000</td>\n",
       "      <td>0.000000</td>\n",
       "    </tr>\n",
       "    <tr>\n",
       "      <th>25%</th>\n",
       "      <td>2015.0</td>\n",
       "      <td>328634.750000</td>\n",
       "      <td>32.00000</td>\n",
       "      <td>73.000000</td>\n",
       "      <td>218.212500</td>\n",
       "      <td>8.400000</td>\n",
       "      <td>24.735000</td>\n",
       "      <td>87.000000</td>\n",
       "      <td>3.000000</td>\n",
       "      <td>3.000000</td>\n",
       "      <td>1.000000</td>\n",
       "      <td>0.000000</td>\n",
       "    </tr>\n",
       "    <tr>\n",
       "      <th>50%</th>\n",
       "      <td>2015.0</td>\n",
       "      <td>567957.500000</td>\n",
       "      <td>37.00000</td>\n",
       "      <td>99.000000</td>\n",
       "      <td>269.925000</td>\n",
       "      <td>10.200000</td>\n",
       "      <td>30.590000</td>\n",
       "      <td>101.000000</td>\n",
       "      <td>4.000000</td>\n",
       "      <td>3.000000</td>\n",
       "      <td>1.000000</td>\n",
       "      <td>0.000000</td>\n",
       "    </tr>\n",
       "    <tr>\n",
       "      <th>75%</th>\n",
       "      <td>2015.0</td>\n",
       "      <td>773280.250000</td>\n",
       "      <td>44.00000</td>\n",
       "      <td>127.000000</td>\n",
       "      <td>324.675000</td>\n",
       "      <td>12.000000</td>\n",
       "      <td>36.797500</td>\n",
       "      <td>114.000000</td>\n",
       "      <td>6.000000</td>\n",
       "      <td>4.000000</td>\n",
       "      <td>2.000000</td>\n",
       "      <td>0.000000</td>\n",
       "    </tr>\n",
       "    <tr>\n",
       "      <th>max</th>\n",
       "      <td>2015.0</td>\n",
       "      <td>999961.000000</td>\n",
       "      <td>82.00000</td>\n",
       "      <td>243.000000</td>\n",
       "      <td>526.200000</td>\n",
       "      <td>20.000000</td>\n",
       "      <td>59.640000</td>\n",
       "      <td>175.000000</td>\n",
       "      <td>19.000000</td>\n",
       "      <td>6.000000</td>\n",
       "      <td>9.000000</td>\n",
       "      <td>1.000000</td>\n",
       "    </tr>\n",
       "  </tbody>\n",
       "</table>\n",
       "</div>"
      ],
      "text/plain": [
       "         year    customer_id         age  no_of_days_subscribed  \\\n",
       "count  2000.0    2000.000000  2000.00000            2000.000000   \n",
       "mean   2015.0  554887.157500    38.69050              99.750000   \n",
       "std       0.0  261033.690318    10.20641              39.755386   \n",
       "min    2015.0  100198.000000    18.00000               1.000000   \n",
       "25%    2015.0  328634.750000    32.00000              73.000000   \n",
       "50%    2015.0  567957.500000    37.00000              99.000000   \n",
       "75%    2015.0  773280.250000    44.00000             127.000000   \n",
       "max    2015.0  999961.000000    82.00000             243.000000   \n",
       "\n",
       "       weekly_mins_watched  minimum_daily_mins  maximum_daily_mins  \\\n",
       "count          2000.000000         2000.000000         2000.000000   \n",
       "mean            270.178425           10.198700           30.620780   \n",
       "std              80.551627            2.785519            9.129165   \n",
       "min               0.000000            0.000000            0.000000   \n",
       "25%             218.212500            8.400000           24.735000   \n",
       "50%             269.925000           10.200000           30.590000   \n",
       "75%             324.675000           12.000000           36.797500   \n",
       "max             526.200000           20.000000           59.640000   \n",
       "\n",
       "       weekly_max_night_mins  videos_watched  maximum_days_inactive  \\\n",
       "count            2000.000000     2000.000000            1972.000000   \n",
       "mean              100.415500        4.482500               3.250507   \n",
       "std                19.529454        2.487728               0.809084   \n",
       "min                42.000000        0.000000               0.000000   \n",
       "25%                87.000000        3.000000               3.000000   \n",
       "50%               101.000000        4.000000               3.000000   \n",
       "75%               114.000000        6.000000               4.000000   \n",
       "max               175.000000       19.000000               6.000000   \n",
       "\n",
       "       customer_support_calls        churn  \n",
       "count             2000.000000  1965.000000  \n",
       "mean                 1.547000     0.133333  \n",
       "std                  1.315164     0.340021  \n",
       "min                  0.000000     0.000000  \n",
       "25%                  1.000000     0.000000  \n",
       "50%                  1.000000     0.000000  \n",
       "75%                  2.000000     0.000000  \n",
       "max                  9.000000     1.000000  "
      ]
     },
     "execution_count": 8,
     "metadata": {},
     "output_type": "execute_result"
    }
   ],
   "source": [
    "data.describe()"
   ]
  },
  {
   "cell_type": "markdown",
   "id": "62360c14-1452-4ffe-9d01-9b70b4e8e6c6",
   "metadata": {},
   "source": [
    "#### Duplicate Values"
   ]
  },
  {
   "cell_type": "code",
   "execution_count": 9,
   "id": "19db80e6-9eed-49c2-b5a3-52908efeb82f",
   "metadata": {},
   "outputs": [
    {
     "data": {
      "text/html": [
       "<div>\n",
       "<style scoped>\n",
       "    .dataframe tbody tr th:only-of-type {\n",
       "        vertical-align: middle;\n",
       "    }\n",
       "\n",
       "    .dataframe tbody tr th {\n",
       "        vertical-align: top;\n",
       "    }\n",
       "\n",
       "    .dataframe thead th {\n",
       "        text-align: right;\n",
       "    }\n",
       "</style>\n",
       "<table border=\"1\" class=\"dataframe\">\n",
       "  <thead>\n",
       "    <tr style=\"text-align: right;\">\n",
       "      <th></th>\n",
       "      <th>year</th>\n",
       "      <th>customer_id</th>\n",
       "      <th>phone_no</th>\n",
       "      <th>gender</th>\n",
       "      <th>age</th>\n",
       "      <th>no_of_days_subscribed</th>\n",
       "      <th>multi_screen</th>\n",
       "      <th>mail_subscribed</th>\n",
       "      <th>weekly_mins_watched</th>\n",
       "      <th>minimum_daily_mins</th>\n",
       "      <th>maximum_daily_mins</th>\n",
       "      <th>weekly_max_night_mins</th>\n",
       "      <th>videos_watched</th>\n",
       "      <th>maximum_days_inactive</th>\n",
       "      <th>customer_support_calls</th>\n",
       "      <th>churn</th>\n",
       "    </tr>\n",
       "  </thead>\n",
       "  <tbody>\n",
       "  </tbody>\n",
       "</table>\n",
       "</div>"
      ],
      "text/plain": [
       "Empty DataFrame\n",
       "Columns: [year, customer_id, phone_no, gender, age, no_of_days_subscribed, multi_screen, mail_subscribed, weekly_mins_watched, minimum_daily_mins, maximum_daily_mins, weekly_max_night_mins, videos_watched, maximum_days_inactive, customer_support_calls, churn]\n",
       "Index: []"
      ]
     },
     "execution_count": 9,
     "metadata": {},
     "output_type": "execute_result"
    }
   ],
   "source": [
    "data[data.duplicated()]"
   ]
  },
  {
   "cell_type": "markdown",
   "id": "29e06114-3dc0-475f-89f3-5369576b5e1f",
   "metadata": {},
   "source": [
    "- Observation: There are no duplicate values"
   ]
  },
  {
   "cell_type": "markdown",
   "id": "cd81d829-c4a5-483a-94ec-310b2c917301",
   "metadata": {},
   "source": [
    "#### Null value"
   ]
  },
  {
   "cell_type": "code",
   "execution_count": 10,
   "id": "692fb769-c55c-4914-a711-39b1ec9ec026",
   "metadata": {},
   "outputs": [
    {
     "data": {
      "text/plain": [
       "year                       0\n",
       "customer_id                0\n",
       "phone_no                   0\n",
       "gender                    24\n",
       "age                        0\n",
       "no_of_days_subscribed      0\n",
       "multi_screen               0\n",
       "mail_subscribed            0\n",
       "weekly_mins_watched        0\n",
       "minimum_daily_mins         0\n",
       "maximum_daily_mins         0\n",
       "weekly_max_night_mins      0\n",
       "videos_watched             0\n",
       "maximum_days_inactive     28\n",
       "customer_support_calls     0\n",
       "churn                     35\n",
       "dtype: int64"
      ]
     },
     "execution_count": 10,
     "metadata": {},
     "output_type": "execute_result"
    }
   ],
   "source": [
    "data.isna().sum()"
   ]
  },
  {
   "cell_type": "markdown",
   "id": "987cb742-69a3-4a59-8471-33e93010a02a",
   "metadata": {},
   "source": [
    "#### Handling the null values\n",
    "We should try to avoid deleting the missing rows. We fill the null values so that nature of data does not change.\n",
    "- Numerical Column - replace with mean/median\n",
    "- Categorical column - replace with mode"
   ]
  },
  {
   "cell_type": "code",
   "execution_count": 100,
   "id": "f44d4729-ca77-4f68-af51-6f8455402a14",
   "metadata": {},
   "outputs": [],
   "source": [
    "# Gender Column Null replace"
   ]
  },
  {
   "cell_type": "code",
   "execution_count": 13,
   "id": "a1234d89-2a0b-45a1-9134-958ced2f6c24",
   "metadata": {},
   "outputs": [
    {
     "data": {
      "text/plain": [
       "Male      1053\n",
       "Female     923\n",
       "Name: gender, dtype: int64"
      ]
     },
     "execution_count": 13,
     "metadata": {},
     "output_type": "execute_result"
    }
   ],
   "source": [
    "data.gender.value_counts()"
   ]
  },
  {
   "cell_type": "code",
   "execution_count": 14,
   "id": "c9b3180c-23a0-4e99-9124-20d3934d19a0",
   "metadata": {},
   "outputs": [],
   "source": [
    "data.gender.fillna('Female', inplace = True)"
   ]
  },
  {
   "cell_type": "code",
   "execution_count": 15,
   "id": "2dd42480-9e50-4c37-b818-abbe932c16fa",
   "metadata": {},
   "outputs": [
    {
     "data": {
      "text/plain": [
       "year                       0\n",
       "customer_id                0\n",
       "phone_no                   0\n",
       "gender                     0\n",
       "age                        0\n",
       "no_of_days_subscribed      0\n",
       "multi_screen               0\n",
       "mail_subscribed            0\n",
       "weekly_mins_watched        0\n",
       "minimum_daily_mins         0\n",
       "maximum_daily_mins         0\n",
       "weekly_max_night_mins      0\n",
       "videos_watched             0\n",
       "maximum_days_inactive     28\n",
       "customer_support_calls     0\n",
       "churn                     35\n",
       "dtype: int64"
      ]
     },
     "execution_count": 15,
     "metadata": {},
     "output_type": "execute_result"
    }
   ],
   "source": [
    "data.isna().sum()"
   ]
  },
  {
   "cell_type": "code",
   "execution_count": 16,
   "id": "1d5db42d-efae-4241-b60f-3531d3ab5ebd",
   "metadata": {},
   "outputs": [
    {
     "data": {
      "text/plain": [
       "3.0    945\n",
       "4.0    645\n",
       "2.0    273\n",
       "5.0     85\n",
       "1.0     12\n",
       "0.0     10\n",
       "6.0      2\n",
       "Name: maximum_days_inactive, dtype: int64"
      ]
     },
     "execution_count": 16,
     "metadata": {},
     "output_type": "execute_result"
    }
   ],
   "source": [
    "# maximum_days_inactive - categorical column\n",
    "\n",
    "data.maximum_days_inactive.value_counts()"
   ]
  },
  {
   "cell_type": "code",
   "execution_count": 17,
   "id": "7ec484bc-a953-4de9-b63a-5c5f3752756f",
   "metadata": {},
   "outputs": [
    {
     "data": {
      "text/plain": [
       "0    3.0\n",
       "Name: maximum_days_inactive, dtype: float64"
      ]
     },
     "execution_count": 17,
     "metadata": {},
     "output_type": "execute_result"
    }
   ],
   "source": [
    "data.maximum_days_inactive.mode()"
   ]
  },
  {
   "cell_type": "code",
   "execution_count": 18,
   "id": "9ab173c5-91a0-4e68-8fd1-63028394d83d",
   "metadata": {},
   "outputs": [],
   "source": [
    "data.maximum_days_inactive.fillna(data.maximum_days_inactive.mode()[0], inplace = True)  # 0th index. Latest/highest value of mode"
   ]
  },
  {
   "cell_type": "code",
   "execution_count": 19,
   "id": "9173a55e-237a-4fdc-9d92-3b7ab5d0ba56",
   "metadata": {},
   "outputs": [
    {
     "data": {
      "text/plain": [
       "year                       0\n",
       "customer_id                0\n",
       "phone_no                   0\n",
       "gender                     0\n",
       "age                        0\n",
       "no_of_days_subscribed      0\n",
       "multi_screen               0\n",
       "mail_subscribed            0\n",
       "weekly_mins_watched        0\n",
       "minimum_daily_mins         0\n",
       "maximum_daily_mins         0\n",
       "weekly_max_night_mins      0\n",
       "videos_watched             0\n",
       "maximum_days_inactive      0\n",
       "customer_support_calls     0\n",
       "churn                     35\n",
       "dtype: int64"
      ]
     },
     "execution_count": 19,
     "metadata": {},
     "output_type": "execute_result"
    }
   ],
   "source": [
    "data.isna().sum()"
   ]
  },
  {
   "cell_type": "code",
   "execution_count": 20,
   "id": "054700ee-d659-4e89-849d-2d1031f8a1b4",
   "metadata": {},
   "outputs": [
    {
     "data": {
      "text/plain": [
       "0.0    1703\n",
       "1.0     262\n",
       "Name: churn, dtype: int64"
      ]
     },
     "execution_count": 20,
     "metadata": {},
     "output_type": "execute_result"
    }
   ],
   "source": [
    "# churn column\n",
    "\n",
    "data.churn.value_counts()"
   ]
  },
  {
   "cell_type": "code",
   "execution_count": 21,
   "id": "40c09abf-a10a-4345-a7e7-0a056c8dfb0a",
   "metadata": {},
   "outputs": [],
   "source": [
    "data.churn.fillna(1.0, inplace = True) \n",
    "\n",
    "# Here, Chrun is float column so we can directly use 1.0; in case it's categorical then we have to pass string '1.0'"
   ]
  },
  {
   "cell_type": "code",
   "execution_count": 22,
   "id": "3d9cbcd7-1801-4f5c-87ce-012f2a1660a7",
   "metadata": {},
   "outputs": [
    {
     "data": {
      "text/plain": [
       "year                      0\n",
       "customer_id               0\n",
       "phone_no                  0\n",
       "gender                    0\n",
       "age                       0\n",
       "no_of_days_subscribed     0\n",
       "multi_screen              0\n",
       "mail_subscribed           0\n",
       "weekly_mins_watched       0\n",
       "minimum_daily_mins        0\n",
       "maximum_daily_mins        0\n",
       "weekly_max_night_mins     0\n",
       "videos_watched            0\n",
       "maximum_days_inactive     0\n",
       "customer_support_calls    0\n",
       "churn                     0\n",
       "dtype: int64"
      ]
     },
     "execution_count": 22,
     "metadata": {},
     "output_type": "execute_result"
    }
   ],
   "source": [
    "data.isna().sum()"
   ]
  },
  {
   "cell_type": "markdown",
   "id": "ea89b8df-ac3c-4272-adf8-58f15839a626",
   "metadata": {},
   "source": [
    "- Remarks: We have successfully treated the null values"
   ]
  },
  {
   "cell_type": "markdown",
   "id": "74ddecde-c06a-48ff-a40e-5cd7283d78ee",
   "metadata": {},
   "source": [
    "#### Outlier Analysis\n",
    "Outlier - anything very far from the mean. Which does not show the real nature of the data. It is considered as noise for the model. \n",
    "- We can Drop the outliers but avoid deleting the rows\n",
    "- Outliers are checked for numerical column\n",
    "- Capping method - lower bound, upper bound\n",
    "\n",
    "How to check the range:\n",
    "\n",
    "- Z-score method - used for normal distribution\n",
    "- Quantile method - lower bound (1st Percentile value); Upper bound (99th Percentile value)\n",
    "- IQR method - (IQR = Q3-Q1) box plot to check outliers (75th Percentile: Q3; 50th Percentile: Median; 25th Percentile: Q1)\n",
    "     - Upper Bound - Q3 + 1.5 x IQR\n",
    "     - Lower Bound - Q1 - 1.5 x IQR"
   ]
  },
  {
   "cell_type": "code",
   "execution_count": 24,
   "id": "9bfc7ca7-0a15-4f4d-a4b0-4b18ba765021",
   "metadata": {},
   "outputs": [
    {
     "data": {
      "text/html": [
       "<div>\n",
       "<style scoped>\n",
       "    .dataframe tbody tr th:only-of-type {\n",
       "        vertical-align: middle;\n",
       "    }\n",
       "\n",
       "    .dataframe tbody tr th {\n",
       "        vertical-align: top;\n",
       "    }\n",
       "\n",
       "    .dataframe thead th {\n",
       "        text-align: right;\n",
       "    }\n",
       "</style>\n",
       "<table border=\"1\" class=\"dataframe\">\n",
       "  <thead>\n",
       "    <tr style=\"text-align: right;\">\n",
       "      <th></th>\n",
       "      <th>year</th>\n",
       "      <th>customer_id</th>\n",
       "      <th>phone_no</th>\n",
       "      <th>gender</th>\n",
       "      <th>age</th>\n",
       "      <th>no_of_days_subscribed</th>\n",
       "      <th>multi_screen</th>\n",
       "      <th>mail_subscribed</th>\n",
       "      <th>weekly_mins_watched</th>\n",
       "      <th>minimum_daily_mins</th>\n",
       "      <th>maximum_daily_mins</th>\n",
       "      <th>weekly_max_night_mins</th>\n",
       "      <th>videos_watched</th>\n",
       "      <th>maximum_days_inactive</th>\n",
       "      <th>customer_support_calls</th>\n",
       "      <th>churn</th>\n",
       "    </tr>\n",
       "  </thead>\n",
       "  <tbody>\n",
       "    <tr>\n",
       "      <th>0</th>\n",
       "      <td>2015</td>\n",
       "      <td>100198</td>\n",
       "      <td>409-8743</td>\n",
       "      <td>Female</td>\n",
       "      <td>36</td>\n",
       "      <td>62</td>\n",
       "      <td>no</td>\n",
       "      <td>no</td>\n",
       "      <td>148.35</td>\n",
       "      <td>12.2</td>\n",
       "      <td>16.81</td>\n",
       "      <td>82</td>\n",
       "      <td>1</td>\n",
       "      <td>4.0</td>\n",
       "      <td>1</td>\n",
       "      <td>0.0</td>\n",
       "    </tr>\n",
       "    <tr>\n",
       "      <th>1</th>\n",
       "      <td>2015</td>\n",
       "      <td>100643</td>\n",
       "      <td>340-5930</td>\n",
       "      <td>Female</td>\n",
       "      <td>39</td>\n",
       "      <td>149</td>\n",
       "      <td>no</td>\n",
       "      <td>no</td>\n",
       "      <td>294.45</td>\n",
       "      <td>7.7</td>\n",
       "      <td>33.37</td>\n",
       "      <td>87</td>\n",
       "      <td>3</td>\n",
       "      <td>3.0</td>\n",
       "      <td>2</td>\n",
       "      <td>0.0</td>\n",
       "    </tr>\n",
       "    <tr>\n",
       "      <th>2</th>\n",
       "      <td>2015</td>\n",
       "      <td>100756</td>\n",
       "      <td>372-3750</td>\n",
       "      <td>Female</td>\n",
       "      <td>65</td>\n",
       "      <td>126</td>\n",
       "      <td>no</td>\n",
       "      <td>no</td>\n",
       "      <td>87.30</td>\n",
       "      <td>11.9</td>\n",
       "      <td>9.89</td>\n",
       "      <td>91</td>\n",
       "      <td>1</td>\n",
       "      <td>4.0</td>\n",
       "      <td>5</td>\n",
       "      <td>1.0</td>\n",
       "    </tr>\n",
       "    <tr>\n",
       "      <th>3</th>\n",
       "      <td>2015</td>\n",
       "      <td>101595</td>\n",
       "      <td>331-4902</td>\n",
       "      <td>Female</td>\n",
       "      <td>24</td>\n",
       "      <td>131</td>\n",
       "      <td>no</td>\n",
       "      <td>yes</td>\n",
       "      <td>321.30</td>\n",
       "      <td>9.5</td>\n",
       "      <td>36.41</td>\n",
       "      <td>102</td>\n",
       "      <td>4</td>\n",
       "      <td>3.0</td>\n",
       "      <td>3</td>\n",
       "      <td>0.0</td>\n",
       "    </tr>\n",
       "    <tr>\n",
       "      <th>4</th>\n",
       "      <td>2015</td>\n",
       "      <td>101653</td>\n",
       "      <td>351-8398</td>\n",
       "      <td>Female</td>\n",
       "      <td>40</td>\n",
       "      <td>191</td>\n",
       "      <td>no</td>\n",
       "      <td>no</td>\n",
       "      <td>243.00</td>\n",
       "      <td>10.9</td>\n",
       "      <td>27.54</td>\n",
       "      <td>83</td>\n",
       "      <td>7</td>\n",
       "      <td>3.0</td>\n",
       "      <td>1</td>\n",
       "      <td>0.0</td>\n",
       "    </tr>\n",
       "  </tbody>\n",
       "</table>\n",
       "</div>"
      ],
      "text/plain": [
       "   year  customer_id  phone_no  gender  age  no_of_days_subscribed  \\\n",
       "0  2015       100198  409-8743  Female   36                     62   \n",
       "1  2015       100643  340-5930  Female   39                    149   \n",
       "2  2015       100756  372-3750  Female   65                    126   \n",
       "3  2015       101595  331-4902  Female   24                    131   \n",
       "4  2015       101653  351-8398  Female   40                    191   \n",
       "\n",
       "  multi_screen mail_subscribed  weekly_mins_watched  minimum_daily_mins  \\\n",
       "0           no              no               148.35                12.2   \n",
       "1           no              no               294.45                 7.7   \n",
       "2           no              no                87.30                11.9   \n",
       "3           no             yes               321.30                 9.5   \n",
       "4           no              no               243.00                10.9   \n",
       "\n",
       "   maximum_daily_mins  weekly_max_night_mins  videos_watched  \\\n",
       "0               16.81                     82               1   \n",
       "1               33.37                     87               3   \n",
       "2                9.89                     91               1   \n",
       "3               36.41                    102               4   \n",
       "4               27.54                     83               7   \n",
       "\n",
       "   maximum_days_inactive  customer_support_calls  churn  \n",
       "0                    4.0                       1    0.0  \n",
       "1                    3.0                       2    0.0  \n",
       "2                    4.0                       5    1.0  \n",
       "3                    3.0                       3    0.0  \n",
       "4                    3.0                       1    0.0  "
      ]
     },
     "execution_count": 24,
     "metadata": {},
     "output_type": "execute_result"
    }
   ],
   "source": [
    "data.head()"
   ]
  },
  {
   "cell_type": "code",
   "execution_count": 25,
   "id": "2d0aa20e-f3fe-42dc-a02c-6510700df7dc",
   "metadata": {},
   "outputs": [
    {
     "data": {
      "text/plain": [
       "<AxesSubplot:ylabel='age'>"
      ]
     },
     "execution_count": 25,
     "metadata": {},
     "output_type": "execute_result"
    },
    {
     "data": {
      "image/png": "[encoded data removed]",
      "text/plain": [
       "<Figure size 432x288 with 1 Axes>"
      ]
     },
     "metadata": {
      "needs_background": "light"
     },
     "output_type": "display_data"
    }
   ],
   "source": [
    "sns.boxplot(y='age', data=data)"
   ]
  },
  {
   "cell_type": "markdown",
   "id": "d43d1186-98d1-4ae6-b940-cb41a13813c7",
   "metadata": {},
   "source": [
    "- Observation : In the age column we have some outliers "
   ]
  },
  {
   "cell_type": "code",
   "execution_count": 26,
   "id": "8a1242c3-b231-4a67-a051-450ff8cc833d",
   "metadata": {},
   "outputs": [
    {
     "data": {
      "text/plain": [
       "<AxesSubplot:ylabel='no_of_days_subscribed'>"
      ]
     },
     "execution_count": 26,
     "metadata": {},
     "output_type": "execute_result"
    },
    {
     "data": {
      "image/png": "[encoded data removed]",
      "text/plain": [
       "<Figure size 432x288 with 1 Axes>"
      ]
     },
     "metadata": {
      "needs_background": "light"
     },
     "output_type": "display_data"
    }
   ],
   "source": [
    "sns.boxplot(y='no_of_days_subscribed', data=data)"
   ]
  },
  {
   "cell_type": "markdown",
   "id": "e3893799-6329-4b10-9bae-ba8a9616b4bb",
   "metadata": {},
   "source": [
    "- Observation : In the 'no_of_days_subscribed' column we have some outliers "
   ]
  },
  {
   "cell_type": "code",
   "execution_count": 27,
   "id": "369e3dcb-5483-4ba2-a6ef-b40d48941e08",
   "metadata": {},
   "outputs": [
    {
     "data": {
      "text/plain": [
       "<AxesSubplot:ylabel='weekly_mins_watched'>"
      ]
     },
     "execution_count": 27,
     "metadata": {},
     "output_type": "execute_result"
    },
    {
     "data": {
      "image/png": "[encoded data removed]",
      "text/plain": [
       "<Figure size 432x288 with 1 Axes>"
      ]
     },
     "metadata": {
      "needs_background": "light"
     },
     "output_type": "display_data"
    }
   ],
   "source": [
    "sns.boxplot(y='weekly_mins_watched', data=data)"
   ]
  },
  {
   "cell_type": "markdown",
   "id": "9410c0cf-8e2f-4e27-857c-ee124ed8c845",
   "metadata": {},
   "source": [
    "- Observation : In the 'weekly_mins_watched' column we have some outliers "
   ]
  },
  {
   "cell_type": "code",
   "execution_count": 28,
   "id": "2e9e5e74-5779-4b7b-b63a-b238d7a0fecc",
   "metadata": {},
   "outputs": [
    {
     "data": {
      "text/plain": [
       "<AxesSubplot:ylabel='weekly_max_night_mins'>"
      ]
     },
     "execution_count": 28,
     "metadata": {},
     "output_type": "execute_result"
    },
    {
     "data": {
      "image/png": "[encoded data removed]",
      "text/plain": [
       "<Figure size 432x288 with 1 Axes>"
      ]
     },
     "metadata": {
      "needs_background": "light"
     },
     "output_type": "display_data"
    }
   ],
   "source": [
    "sns.boxplot(y='weekly_max_night_mins', data=data)"
   ]
  },
  {
   "cell_type": "markdown",
   "id": "a9b49290-2757-4fd9-8ffe-1ae7e9447bad",
   "metadata": {},
   "source": [
    "- Observation : In the 'weekly_max_night_mins' column we have some outliers "
   ]
  },
  {
   "cell_type": "markdown",
   "id": "887b0f81-3a6c-42f8-b007-099906280a4e",
   "metadata": {},
   "source": [
    "#### Treating the Outliers\n",
    "- Here we are using IQR Method to treat the outliers"
   ]
  },
  {
   "cell_type": "code",
   "execution_count": 29,
   "id": "77aaae97-15d7-40f6-a1df-9e854bfd126d",
   "metadata": {},
   "outputs": [],
   "source": [
    "def out_cap(col):\n",
    "    q3 = col.quantile(0.75)\n",
    "    q1 = col.quantile(0.25)\n",
    "    \n",
    "    iqr = q3-q1\n",
    "    \n",
    "    l_limit = q1-1.5*iqr\n",
    "    u_limit = q3+1.5*iqr\n",
    "    \n",
    "    col = col.clip(lower = l_limit, upper = u_limit)\n",
    "    return col"
   ]
  },
  {
   "cell_type": "code",
   "execution_count": 30,
   "id": "53da8d8f-69e3-4f38-a631-5071a2914b14",
   "metadata": {},
   "outputs": [
    {
     "data": {
      "text/plain": [
       "44.0"
      ]
     },
     "execution_count": 30,
     "metadata": {},
     "output_type": "execute_result"
    }
   ],
   "source": [
    "data.age.quantile(0.75)"
   ]
  },
  {
   "cell_type": "code",
   "execution_count": 31,
   "id": "77c4b4b4-5495-497e-9e45-459c9a2fcf7e",
   "metadata": {},
   "outputs": [
    {
     "data": {
      "text/plain": [
       "32.0"
      ]
     },
     "execution_count": 31,
     "metadata": {},
     "output_type": "execute_result"
    }
   ],
   "source": [
    "data.age.quantile(0.25)"
   ]
  },
  {
   "cell_type": "code",
   "execution_count": 32,
   "id": "76568f52-c014-4d30-b2eb-fa702f812f7e",
   "metadata": {},
   "outputs": [],
   "source": [
    "data.age = out_cap(data.age)"
   ]
  },
  {
   "cell_type": "code",
   "execution_count": 33,
   "id": "9f05f572-f45f-4e62-8f59-7632069264c6",
   "metadata": {},
   "outputs": [
    {
     "data": {
      "text/plain": [
       "<AxesSubplot:ylabel='age'>"
      ]
     },
     "execution_count": 33,
     "metadata": {},
     "output_type": "execute_result"
    },
    {
     "data": {
      "image/png": "[encoded data removed]",
      "text/plain": [
       "<Figure size 432x288 with 1 Axes>"
      ]
     },
     "metadata": {
      "needs_background": "light"
     },
     "output_type": "display_data"
    }
   ],
   "source": [
    "sns.boxplot(y='age', data=data)"
   ]
  },
  {
   "cell_type": "code",
   "execution_count": 34,
   "id": "983d2b53-82a1-485d-b570-9b2bccd8c960",
   "metadata": {},
   "outputs": [],
   "source": [
    "data.no_of_days_subscribed = out_cap(data.no_of_days_subscribed)"
   ]
  },
  {
   "cell_type": "code",
   "execution_count": 35,
   "id": "7038b5c4-a056-46b2-af42-fc37aa77dfe8",
   "metadata": {},
   "outputs": [
    {
     "data": {
      "text/plain": [
       "<AxesSubplot:ylabel='no_of_days_subscribed'>"
      ]
     },
     "execution_count": 35,
     "metadata": {},
     "output_type": "execute_result"
    },
    {
     "data": {
      "image/png": "[encoded data removed]",
      "text/plain": [
       "<Figure size 432x288 with 1 Axes>"
      ]
     },
     "metadata": {
      "needs_background": "light"
     },
     "output_type": "display_data"
    }
   ],
   "source": [
    "sns.boxplot(y='no_of_days_subscribed', data=data)"
   ]
  },
  {
   "cell_type": "code",
   "execution_count": 36,
   "id": "f7030c9d-069f-46b8-aec2-abf23bae1db4",
   "metadata": {},
   "outputs": [],
   "source": [
    "data.weekly_mins_watched = out_cap(data.weekly_mins_watched)"
   ]
  },
  {
   "cell_type": "code",
   "execution_count": 37,
   "id": "3f98916b-43cc-47f9-b6b2-352f3421cd31",
   "metadata": {},
   "outputs": [
    {
     "data": {
      "text/plain": [
       "<AxesSubplot:ylabel='weekly_mins_watched'>"
      ]
     },
     "execution_count": 37,
     "metadata": {},
     "output_type": "execute_result"
    },
    {
     "data": {
      "image/png": "[encoded data removed]",
      "text/plain": [
       "<Figure size 432x288 with 1 Axes>"
      ]
     },
     "metadata": {
      "needs_background": "light"
     },
     "output_type": "display_data"
    }
   ],
   "source": [
    "sns.boxplot(y='weekly_mins_watched', data=data)"
   ]
  },
  {
   "cell_type": "code",
   "execution_count": 38,
   "id": "27a3610d-b575-44fe-bbeb-a7ddaa3b9fc7",
   "metadata": {},
   "outputs": [],
   "source": [
    "data.weekly_max_night_mins = out_cap(data.weekly_max_night_mins)"
   ]
  },
  {
   "cell_type": "code",
   "execution_count": 39,
   "id": "407c014d-af88-453a-9ece-b84b92b7e9ca",
   "metadata": {},
   "outputs": [
    {
     "data": {
      "text/plain": [
       "<AxesSubplot:ylabel='weekly_max_night_mins'>"
      ]
     },
     "execution_count": 39,
     "metadata": {},
     "output_type": "execute_result"
    },
    {
     "data": {
      "image/png": "[encoded data removed]",
      "text/plain": [
       "<Figure size 432x288 with 1 Axes>"
      ]
     },
     "metadata": {
      "needs_background": "light"
     },
     "output_type": "display_data"
    }
   ],
   "source": [
    "sns.boxplot(y='weekly_max_night_mins', data=data)"
   ]
  },
  {
   "cell_type": "markdown",
   "id": "92b67a8c-148a-4b71-a9ab-d8c29de226a0",
   "metadata": {},
   "source": [
    "- Remarks : We have successfully treated the Outliers"
   ]
  },
  {
   "cell_type": "markdown",
   "id": "6a4a440c-42e5-4d66-9427-5da05e78c67d",
   "metadata": {},
   "source": [
    "#### Data Transformation\n",
    "- Transform the object/string column to numeric values\n",
    "- Discard/drop the unnecessary columns"
   ]
  },
  {
   "cell_type": "code",
   "execution_count": 40,
   "id": "4b1a4f5a-b510-4453-8b94-76bf6457c22a",
   "metadata": {},
   "outputs": [
    {
     "data": {
      "text/plain": [
       "year                        int64\n",
       "customer_id                 int64\n",
       "phone_no                   object\n",
       "gender                     object\n",
       "age                       float64\n",
       "no_of_days_subscribed     float64\n",
       "multi_screen               object\n",
       "mail_subscribed            object\n",
       "weekly_mins_watched       float64\n",
       "minimum_daily_mins        float64\n",
       "maximum_daily_mins        float64\n",
       "weekly_max_night_mins     float64\n",
       "videos_watched              int64\n",
       "maximum_days_inactive     float64\n",
       "customer_support_calls      int64\n",
       "churn                     float64\n",
       "dtype: object"
      ]
     },
     "execution_count": 40,
     "metadata": {},
     "output_type": "execute_result"
    }
   ],
   "source": [
    "data.dtypes"
   ]
  },
  {
   "cell_type": "markdown",
   "id": "49ab9aa7-a53c-43c7-8a25-226550f34abd",
   "metadata": {},
   "source": [
    "#### Spiliting the dataset into Numeric and Object Column"
   ]
  },
  {
   "cell_type": "code",
   "execution_count": 42,
   "id": "dcc5c04e-68d6-4fe0-ba6d-ecfdad1274eb",
   "metadata": {},
   "outputs": [],
   "source": [
    "num_data = data.select_dtypes('number')"
   ]
  },
  {
   "cell_type": "code",
   "execution_count": 43,
   "id": "e143a24d-08e7-4d85-986d-078cf473da7d",
   "metadata": {},
   "outputs": [
    {
     "data": {
      "text/html": [
       "<div>\n",
       "<style scoped>\n",
       "    .dataframe tbody tr th:only-of-type {\n",
       "        vertical-align: middle;\n",
       "    }\n",
       "\n",
       "    .dataframe tbody tr th {\n",
       "        vertical-align: top;\n",
       "    }\n",
       "\n",
       "    .dataframe thead th {\n",
       "        text-align: right;\n",
       "    }\n",
       "</style>\n",
       "<table border=\"1\" class=\"dataframe\">\n",
       "  <thead>\n",
       "    <tr style=\"text-align: right;\">\n",
       "      <th></th>\n",
       "      <th>year</th>\n",
       "      <th>customer_id</th>\n",
       "      <th>age</th>\n",
       "      <th>no_of_days_subscribed</th>\n",
       "      <th>weekly_mins_watched</th>\n",
       "      <th>minimum_daily_mins</th>\n",
       "      <th>maximum_daily_mins</th>\n",
       "      <th>weekly_max_night_mins</th>\n",
       "      <th>videos_watched</th>\n",
       "      <th>maximum_days_inactive</th>\n",
       "      <th>customer_support_calls</th>\n",
       "      <th>churn</th>\n",
       "    </tr>\n",
       "  </thead>\n",
       "  <tbody>\n",
       "    <tr>\n",
       "      <th>0</th>\n",
       "      <td>2015</td>\n",
       "      <td>100198</td>\n",
       "      <td>36.0</td>\n",
       "      <td>62.0</td>\n",
       "      <td>148.35</td>\n",
       "      <td>12.2</td>\n",
       "      <td>16.81</td>\n",
       "      <td>82.0</td>\n",
       "      <td>1</td>\n",
       "      <td>4.0</td>\n",
       "      <td>1</td>\n",
       "      <td>0.0</td>\n",
       "    </tr>\n",
       "    <tr>\n",
       "      <th>1</th>\n",
       "      <td>2015</td>\n",
       "      <td>100643</td>\n",
       "      <td>39.0</td>\n",
       "      <td>149.0</td>\n",
       "      <td>294.45</td>\n",
       "      <td>7.7</td>\n",
       "      <td>33.37</td>\n",
       "      <td>87.0</td>\n",
       "      <td>3</td>\n",
       "      <td>3.0</td>\n",
       "      <td>2</td>\n",
       "      <td>0.0</td>\n",
       "    </tr>\n",
       "    <tr>\n",
       "      <th>2</th>\n",
       "      <td>2015</td>\n",
       "      <td>100756</td>\n",
       "      <td>62.0</td>\n",
       "      <td>126.0</td>\n",
       "      <td>87.30</td>\n",
       "      <td>11.9</td>\n",
       "      <td>9.89</td>\n",
       "      <td>91.0</td>\n",
       "      <td>1</td>\n",
       "      <td>4.0</td>\n",
       "      <td>5</td>\n",
       "      <td>1.0</td>\n",
       "    </tr>\n",
       "    <tr>\n",
       "      <th>3</th>\n",
       "      <td>2015</td>\n",
       "      <td>101595</td>\n",
       "      <td>24.0</td>\n",
       "      <td>131.0</td>\n",
       "      <td>321.30</td>\n",
       "      <td>9.5</td>\n",
       "      <td>36.41</td>\n",
       "      <td>102.0</td>\n",
       "      <td>4</td>\n",
       "      <td>3.0</td>\n",
       "      <td>3</td>\n",
       "      <td>0.0</td>\n",
       "    </tr>\n",
       "    <tr>\n",
       "      <th>4</th>\n",
       "      <td>2015</td>\n",
       "      <td>101653</td>\n",
       "      <td>40.0</td>\n",
       "      <td>191.0</td>\n",
       "      <td>243.00</td>\n",
       "      <td>10.9</td>\n",
       "      <td>27.54</td>\n",
       "      <td>83.0</td>\n",
       "      <td>7</td>\n",
       "      <td>3.0</td>\n",
       "      <td>1</td>\n",
       "      <td>0.0</td>\n",
       "    </tr>\n",
       "  </tbody>\n",
       "</table>\n",
       "</div>"
      ],
      "text/plain": [
       "   year  customer_id   age  no_of_days_subscribed  weekly_mins_watched  \\\n",
       "0  2015       100198  36.0                   62.0               148.35   \n",
       "1  2015       100643  39.0                  149.0               294.45   \n",
       "2  2015       100756  62.0                  126.0                87.30   \n",
       "3  2015       101595  24.0                  131.0               321.30   \n",
       "4  2015       101653  40.0                  191.0               243.00   \n",
       "\n",
       "   minimum_daily_mins  maximum_daily_mins  weekly_max_night_mins  \\\n",
       "0                12.2               16.81                   82.0   \n",
       "1                 7.7               33.37                   87.0   \n",
       "2                11.9                9.89                   91.0   \n",
       "3                 9.5               36.41                  102.0   \n",
       "4                10.9               27.54                   83.0   \n",
       "\n",
       "   videos_watched  maximum_days_inactive  customer_support_calls  churn  \n",
       "0               1                    4.0                       1    0.0  \n",
       "1               3                    3.0                       2    0.0  \n",
       "2               1                    4.0                       5    1.0  \n",
       "3               4                    3.0                       3    0.0  \n",
       "4               7                    3.0                       1    0.0  "
      ]
     },
     "execution_count": 43,
     "metadata": {},
     "output_type": "execute_result"
    }
   ],
   "source": [
    "num_data.head()"
   ]
  },
  {
   "cell_type": "code",
   "execution_count": 44,
   "id": "bf661fe3-7821-4d04-b176-ad4b5439f13a",
   "metadata": {},
   "outputs": [],
   "source": [
    "obj_data = data.select_dtypes('object')"
   ]
  },
  {
   "cell_type": "code",
   "execution_count": 45,
   "id": "a5be449e-33bc-4211-b610-7e67e3bb9298",
   "metadata": {},
   "outputs": [
    {
     "data": {
      "text/html": [
       "<div>\n",
       "<style scoped>\n",
       "    .dataframe tbody tr th:only-of-type {\n",
       "        vertical-align: middle;\n",
       "    }\n",
       "\n",
       "    .dataframe tbody tr th {\n",
       "        vertical-align: top;\n",
       "    }\n",
       "\n",
       "    .dataframe thead th {\n",
       "        text-align: right;\n",
       "    }\n",
       "</style>\n",
       "<table border=\"1\" class=\"dataframe\">\n",
       "  <thead>\n",
       "    <tr style=\"text-align: right;\">\n",
       "      <th></th>\n",
       "      <th>phone_no</th>\n",
       "      <th>gender</th>\n",
       "      <th>multi_screen</th>\n",
       "      <th>mail_subscribed</th>\n",
       "    </tr>\n",
       "  </thead>\n",
       "  <tbody>\n",
       "    <tr>\n",
       "      <th>0</th>\n",
       "      <td>409-8743</td>\n",
       "      <td>Female</td>\n",
       "      <td>no</td>\n",
       "      <td>no</td>\n",
       "    </tr>\n",
       "    <tr>\n",
       "      <th>1</th>\n",
       "      <td>340-5930</td>\n",
       "      <td>Female</td>\n",
       "      <td>no</td>\n",
       "      <td>no</td>\n",
       "    </tr>\n",
       "    <tr>\n",
       "      <th>2</th>\n",
       "      <td>372-3750</td>\n",
       "      <td>Female</td>\n",
       "      <td>no</td>\n",
       "      <td>no</td>\n",
       "    </tr>\n",
       "    <tr>\n",
       "      <th>3</th>\n",
       "      <td>331-4902</td>\n",
       "      <td>Female</td>\n",
       "      <td>no</td>\n",
       "      <td>yes</td>\n",
       "    </tr>\n",
       "    <tr>\n",
       "      <th>4</th>\n",
       "      <td>351-8398</td>\n",
       "      <td>Female</td>\n",
       "      <td>no</td>\n",
       "      <td>no</td>\n",
       "    </tr>\n",
       "  </tbody>\n",
       "</table>\n",
       "</div>"
      ],
      "text/plain": [
       "   phone_no  gender multi_screen mail_subscribed\n",
       "0  409-8743  Female           no              no\n",
       "1  340-5930  Female           no              no\n",
       "2  372-3750  Female           no              no\n",
       "3  331-4902  Female           no             yes\n",
       "4  351-8398  Female           no              no"
      ]
     },
     "execution_count": 45,
     "metadata": {},
     "output_type": "execute_result"
    }
   ],
   "source": [
    "obj_data.head()"
   ]
  },
  {
   "cell_type": "code",
   "execution_count": 46,
   "id": "cc2bccc3-5766-4070-84ab-42734fde7819",
   "metadata": {},
   "outputs": [],
   "source": [
    "# Dropping the Column phone_no beacuse it is useless for our data model"
   ]
  },
  {
   "cell_type": "code",
   "execution_count": 47,
   "id": "fdfcb501-aae8-45de-bd73-085b828e1e69",
   "metadata": {},
   "outputs": [],
   "source": [
    "obj_data.drop('phone_no', axis=1, inplace = True)"
   ]
  },
  {
   "cell_type": "code",
   "execution_count": 48,
   "id": "5b7a63e5-cace-4904-88ce-0e1f650f8c0e",
   "metadata": {},
   "outputs": [
    {
     "data": {
      "text/html": [
       "<div>\n",
       "<style scoped>\n",
       "    .dataframe tbody tr th:only-of-type {\n",
       "        vertical-align: middle;\n",
       "    }\n",
       "\n",
       "    .dataframe tbody tr th {\n",
       "        vertical-align: top;\n",
       "    }\n",
       "\n",
       "    .dataframe thead th {\n",
       "        text-align: right;\n",
       "    }\n",
       "</style>\n",
       "<table border=\"1\" class=\"dataframe\">\n",
       "  <thead>\n",
       "    <tr style=\"text-align: right;\">\n",
       "      <th></th>\n",
       "      <th>gender</th>\n",
       "      <th>multi_screen</th>\n",
       "      <th>mail_subscribed</th>\n",
       "    </tr>\n",
       "  </thead>\n",
       "  <tbody>\n",
       "    <tr>\n",
       "      <th>0</th>\n",
       "      <td>Female</td>\n",
       "      <td>no</td>\n",
       "      <td>no</td>\n",
       "    </tr>\n",
       "    <tr>\n",
       "      <th>1</th>\n",
       "      <td>Female</td>\n",
       "      <td>no</td>\n",
       "      <td>no</td>\n",
       "    </tr>\n",
       "    <tr>\n",
       "      <th>2</th>\n",
       "      <td>Female</td>\n",
       "      <td>no</td>\n",
       "      <td>no</td>\n",
       "    </tr>\n",
       "    <tr>\n",
       "      <th>3</th>\n",
       "      <td>Female</td>\n",
       "      <td>no</td>\n",
       "      <td>yes</td>\n",
       "    </tr>\n",
       "    <tr>\n",
       "      <th>4</th>\n",
       "      <td>Female</td>\n",
       "      <td>no</td>\n",
       "      <td>no</td>\n",
       "    </tr>\n",
       "  </tbody>\n",
       "</table>\n",
       "</div>"
      ],
      "text/plain": [
       "   gender multi_screen mail_subscribed\n",
       "0  Female           no              no\n",
       "1  Female           no              no\n",
       "2  Female           no              no\n",
       "3  Female           no             yes\n",
       "4  Female           no              no"
      ]
     },
     "execution_count": 48,
     "metadata": {},
     "output_type": "execute_result"
    }
   ],
   "source": [
    "obj_data.head()"
   ]
  },
  {
   "cell_type": "code",
   "execution_count": 49,
   "id": "d1c24764-07c7-44df-9652-76618451941a",
   "metadata": {},
   "outputs": [
    {
     "data": {
      "text/plain": [
       "Male      1053\n",
       "Female     947\n",
       "Name: gender, dtype: int64"
      ]
     },
     "execution_count": 49,
     "metadata": {},
     "output_type": "execute_result"
    }
   ],
   "source": [
    "# Gender Column\n",
    "\n",
    "obj_data.gender.value_counts()"
   ]
  },
  {
   "cell_type": "markdown",
   "id": "ec4f9490-1a08-454b-81af-950b8ab0f59e",
   "metadata": {},
   "source": [
    "#### Label encoding \n",
    "\n",
    "- level in data - categorical column (1,2,3,...)\n",
    "- No level in data - one-hot coding(1,0)"
   ]
  },
  {
   "cell_type": "code",
   "execution_count": 52,
   "id": "497473b1-cecb-4d14-b9da-6cdcd20bd388",
   "metadata": {},
   "outputs": [],
   "source": [
    "# As gender column does not have any hierarchy (or levels), we can use one-hot coding"
   ]
  },
  {
   "cell_type": "code",
   "execution_count": 53,
   "id": "34aafa46-f8ef-4d0a-b30e-74c5d6977644",
   "metadata": {},
   "outputs": [],
   "source": [
    "gender_data = pd.get_dummies(obj_data.gender)  # syntax to pass one hot coding"
   ]
  },
  {
   "cell_type": "code",
   "execution_count": 54,
   "id": "295211d0-6a54-4857-a1d9-192810f39732",
   "metadata": {},
   "outputs": [
    {
     "data": {
      "text/html": [
       "<div>\n",
       "<style scoped>\n",
       "    .dataframe tbody tr th:only-of-type {\n",
       "        vertical-align: middle;\n",
       "    }\n",
       "\n",
       "    .dataframe tbody tr th {\n",
       "        vertical-align: top;\n",
       "    }\n",
       "\n",
       "    .dataframe thead th {\n",
       "        text-align: right;\n",
       "    }\n",
       "</style>\n",
       "<table border=\"1\" class=\"dataframe\">\n",
       "  <thead>\n",
       "    <tr style=\"text-align: right;\">\n",
       "      <th></th>\n",
       "      <th>Female</th>\n",
       "      <th>Male</th>\n",
       "    </tr>\n",
       "  </thead>\n",
       "  <tbody>\n",
       "    <tr>\n",
       "      <th>0</th>\n",
       "      <td>1</td>\n",
       "      <td>0</td>\n",
       "    </tr>\n",
       "    <tr>\n",
       "      <th>1</th>\n",
       "      <td>1</td>\n",
       "      <td>0</td>\n",
       "    </tr>\n",
       "    <tr>\n",
       "      <th>2</th>\n",
       "      <td>1</td>\n",
       "      <td>0</td>\n",
       "    </tr>\n",
       "    <tr>\n",
       "      <th>3</th>\n",
       "      <td>1</td>\n",
       "      <td>0</td>\n",
       "    </tr>\n",
       "    <tr>\n",
       "      <th>4</th>\n",
       "      <td>1</td>\n",
       "      <td>0</td>\n",
       "    </tr>\n",
       "    <tr>\n",
       "      <th>...</th>\n",
       "      <td>...</td>\n",
       "      <td>...</td>\n",
       "    </tr>\n",
       "    <tr>\n",
       "      <th>1995</th>\n",
       "      <td>1</td>\n",
       "      <td>0</td>\n",
       "    </tr>\n",
       "    <tr>\n",
       "      <th>1996</th>\n",
       "      <td>0</td>\n",
       "      <td>1</td>\n",
       "    </tr>\n",
       "    <tr>\n",
       "      <th>1997</th>\n",
       "      <td>1</td>\n",
       "      <td>0</td>\n",
       "    </tr>\n",
       "    <tr>\n",
       "      <th>1998</th>\n",
       "      <td>0</td>\n",
       "      <td>1</td>\n",
       "    </tr>\n",
       "    <tr>\n",
       "      <th>1999</th>\n",
       "      <td>0</td>\n",
       "      <td>1</td>\n",
       "    </tr>\n",
       "  </tbody>\n",
       "</table>\n",
       "<p>2000 rows × 2 columns</p>\n",
       "</div>"
      ],
      "text/plain": [
       "      Female  Male\n",
       "0          1     0\n",
       "1          1     0\n",
       "2          1     0\n",
       "3          1     0\n",
       "4          1     0\n",
       "...      ...   ...\n",
       "1995       1     0\n",
       "1996       0     1\n",
       "1997       1     0\n",
       "1998       0     1\n",
       "1999       0     1\n",
       "\n",
       "[2000 rows x 2 columns]"
      ]
     },
     "execution_count": 54,
     "metadata": {},
     "output_type": "execute_result"
    }
   ],
   "source": [
    "gender_data"
   ]
  },
  {
   "cell_type": "code",
   "execution_count": 55,
   "id": "4515efff-ecd1-4df4-ac4b-24ff77f1c12f",
   "metadata": {},
   "outputs": [],
   "source": [
    "# Concatinating gender_data with the obj_data\n",
    "\n",
    "obj_data = pd.concat([obj_data, gender_data], axis = 1)"
   ]
  },
  {
   "cell_type": "code",
   "execution_count": 56,
   "id": "c5788cd2-e5f9-47cb-b8de-73da3aba23c1",
   "metadata": {},
   "outputs": [
    {
     "data": {
      "text/html": [
       "<div>\n",
       "<style scoped>\n",
       "    .dataframe tbody tr th:only-of-type {\n",
       "        vertical-align: middle;\n",
       "    }\n",
       "\n",
       "    .dataframe tbody tr th {\n",
       "        vertical-align: top;\n",
       "    }\n",
       "\n",
       "    .dataframe thead th {\n",
       "        text-align: right;\n",
       "    }\n",
       "</style>\n",
       "<table border=\"1\" class=\"dataframe\">\n",
       "  <thead>\n",
       "    <tr style=\"text-align: right;\">\n",
       "      <th></th>\n",
       "      <th>gender</th>\n",
       "      <th>multi_screen</th>\n",
       "      <th>mail_subscribed</th>\n",
       "      <th>Female</th>\n",
       "      <th>Male</th>\n",
       "    </tr>\n",
       "  </thead>\n",
       "  <tbody>\n",
       "    <tr>\n",
       "      <th>0</th>\n",
       "      <td>Female</td>\n",
       "      <td>no</td>\n",
       "      <td>no</td>\n",
       "      <td>1</td>\n",
       "      <td>0</td>\n",
       "    </tr>\n",
       "    <tr>\n",
       "      <th>1</th>\n",
       "      <td>Female</td>\n",
       "      <td>no</td>\n",
       "      <td>no</td>\n",
       "      <td>1</td>\n",
       "      <td>0</td>\n",
       "    </tr>\n",
       "    <tr>\n",
       "      <th>2</th>\n",
       "      <td>Female</td>\n",
       "      <td>no</td>\n",
       "      <td>no</td>\n",
       "      <td>1</td>\n",
       "      <td>0</td>\n",
       "    </tr>\n",
       "    <tr>\n",
       "      <th>3</th>\n",
       "      <td>Female</td>\n",
       "      <td>no</td>\n",
       "      <td>yes</td>\n",
       "      <td>1</td>\n",
       "      <td>0</td>\n",
       "    </tr>\n",
       "    <tr>\n",
       "      <th>4</th>\n",
       "      <td>Female</td>\n",
       "      <td>no</td>\n",
       "      <td>no</td>\n",
       "      <td>1</td>\n",
       "      <td>0</td>\n",
       "    </tr>\n",
       "  </tbody>\n",
       "</table>\n",
       "</div>"
      ],
      "text/plain": [
       "   gender multi_screen mail_subscribed  Female  Male\n",
       "0  Female           no              no       1     0\n",
       "1  Female           no              no       1     0\n",
       "2  Female           no              no       1     0\n",
       "3  Female           no             yes       1     0\n",
       "4  Female           no              no       1     0"
      ]
     },
     "execution_count": 56,
     "metadata": {},
     "output_type": "execute_result"
    }
   ],
   "source": [
    "obj_data.head()"
   ]
  },
  {
   "cell_type": "code",
   "execution_count": 57,
   "id": "df1397dc-095f-47e3-b8a2-a3253b75b20a",
   "metadata": {},
   "outputs": [
    {
     "data": {
      "text/plain": [
       "no     1802\n",
       "yes     198\n",
       "Name: multi_screen, dtype: int64"
      ]
     },
     "execution_count": 57,
     "metadata": {},
     "output_type": "execute_result"
    }
   ],
   "source": [
    "# multi_screen column\n",
    "\n",
    "obj_data.multi_screen.value_counts()"
   ]
  },
  {
   "cell_type": "code",
   "execution_count": 58,
   "id": "f8e14b92-187a-43d3-89d7-737e3494fe4c",
   "metadata": {},
   "outputs": [],
   "source": [
    "# We can replace 'no' with 0 and 'yes' with 1 for analysis\n",
    "\n",
    "obj_data.replace({'no':0,'yes':1}, inplace = True)"
   ]
  },
  {
   "cell_type": "code",
   "execution_count": 59,
   "id": "ba878d81-2c22-429f-af7f-3fc097e7a4e0",
   "metadata": {},
   "outputs": [
    {
     "data": {
      "text/html": [
       "<div>\n",
       "<style scoped>\n",
       "    .dataframe tbody tr th:only-of-type {\n",
       "        vertical-align: middle;\n",
       "    }\n",
       "\n",
       "    .dataframe tbody tr th {\n",
       "        vertical-align: top;\n",
       "    }\n",
       "\n",
       "    .dataframe thead th {\n",
       "        text-align: right;\n",
       "    }\n",
       "</style>\n",
       "<table border=\"1\" class=\"dataframe\">\n",
       "  <thead>\n",
       "    <tr style=\"text-align: right;\">\n",
       "      <th></th>\n",
       "      <th>gender</th>\n",
       "      <th>multi_screen</th>\n",
       "      <th>mail_subscribed</th>\n",
       "      <th>Female</th>\n",
       "      <th>Male</th>\n",
       "    </tr>\n",
       "  </thead>\n",
       "  <tbody>\n",
       "    <tr>\n",
       "      <th>0</th>\n",
       "      <td>Female</td>\n",
       "      <td>0</td>\n",
       "      <td>0</td>\n",
       "      <td>1</td>\n",
       "      <td>0</td>\n",
       "    </tr>\n",
       "    <tr>\n",
       "      <th>1</th>\n",
       "      <td>Female</td>\n",
       "      <td>0</td>\n",
       "      <td>0</td>\n",
       "      <td>1</td>\n",
       "      <td>0</td>\n",
       "    </tr>\n",
       "    <tr>\n",
       "      <th>2</th>\n",
       "      <td>Female</td>\n",
       "      <td>0</td>\n",
       "      <td>0</td>\n",
       "      <td>1</td>\n",
       "      <td>0</td>\n",
       "    </tr>\n",
       "    <tr>\n",
       "      <th>3</th>\n",
       "      <td>Female</td>\n",
       "      <td>0</td>\n",
       "      <td>1</td>\n",
       "      <td>1</td>\n",
       "      <td>0</td>\n",
       "    </tr>\n",
       "    <tr>\n",
       "      <th>4</th>\n",
       "      <td>Female</td>\n",
       "      <td>0</td>\n",
       "      <td>0</td>\n",
       "      <td>1</td>\n",
       "      <td>0</td>\n",
       "    </tr>\n",
       "  </tbody>\n",
       "</table>\n",
       "</div>"
      ],
      "text/plain": [
       "   gender  multi_screen  mail_subscribed  Female  Male\n",
       "0  Female             0                0       1     0\n",
       "1  Female             0                0       1     0\n",
       "2  Female             0                0       1     0\n",
       "3  Female             0                1       1     0\n",
       "4  Female             0                0       1     0"
      ]
     },
     "execution_count": 59,
     "metadata": {},
     "output_type": "execute_result"
    }
   ],
   "source": [
    "obj_data.head()"
   ]
  },
  {
   "cell_type": "markdown",
   "id": "bdb1ab6d-c324-481d-9b32-8e0a7e99d856",
   "metadata": {},
   "source": [
    "- Remarks : We have successfully dealt with data transformation"
   ]
  },
  {
   "cell_type": "markdown",
   "id": "4faf954b-b3a0-47e1-afe9-ac86f5dc032d",
   "metadata": {},
   "source": [
    "#### Drop the Unnecessary columns"
   ]
  },
  {
   "cell_type": "code",
   "execution_count": 60,
   "id": "33c2ee18-0f5a-43db-a17d-4adc330f4fbe",
   "metadata": {},
   "outputs": [],
   "source": [
    "obj_data.drop('gender', axis =1, inplace = True)"
   ]
  },
  {
   "cell_type": "code",
   "execution_count": 61,
   "id": "3e23f2c7-14c7-45f6-8d69-e7a0a1a30cd0",
   "metadata": {},
   "outputs": [
    {
     "data": {
      "text/html": [
       "<div>\n",
       "<style scoped>\n",
       "    .dataframe tbody tr th:only-of-type {\n",
       "        vertical-align: middle;\n",
       "    }\n",
       "\n",
       "    .dataframe tbody tr th {\n",
       "        vertical-align: top;\n",
       "    }\n",
       "\n",
       "    .dataframe thead th {\n",
       "        text-align: right;\n",
       "    }\n",
       "</style>\n",
       "<table border=\"1\" class=\"dataframe\">\n",
       "  <thead>\n",
       "    <tr style=\"text-align: right;\">\n",
       "      <th></th>\n",
       "      <th>multi_screen</th>\n",
       "      <th>mail_subscribed</th>\n",
       "      <th>Female</th>\n",
       "      <th>Male</th>\n",
       "    </tr>\n",
       "  </thead>\n",
       "  <tbody>\n",
       "    <tr>\n",
       "      <th>0</th>\n",
       "      <td>0</td>\n",
       "      <td>0</td>\n",
       "      <td>1</td>\n",
       "      <td>0</td>\n",
       "    </tr>\n",
       "    <tr>\n",
       "      <th>1</th>\n",
       "      <td>0</td>\n",
       "      <td>0</td>\n",
       "      <td>1</td>\n",
       "      <td>0</td>\n",
       "    </tr>\n",
       "    <tr>\n",
       "      <th>2</th>\n",
       "      <td>0</td>\n",
       "      <td>0</td>\n",
       "      <td>1</td>\n",
       "      <td>0</td>\n",
       "    </tr>\n",
       "    <tr>\n",
       "      <th>3</th>\n",
       "      <td>0</td>\n",
       "      <td>1</td>\n",
       "      <td>1</td>\n",
       "      <td>0</td>\n",
       "    </tr>\n",
       "    <tr>\n",
       "      <th>4</th>\n",
       "      <td>0</td>\n",
       "      <td>0</td>\n",
       "      <td>1</td>\n",
       "      <td>0</td>\n",
       "    </tr>\n",
       "  </tbody>\n",
       "</table>\n",
       "</div>"
      ],
      "text/plain": [
       "   multi_screen  mail_subscribed  Female  Male\n",
       "0             0                0       1     0\n",
       "1             0                0       1     0\n",
       "2             0                0       1     0\n",
       "3             0                1       1     0\n",
       "4             0                0       1     0"
      ]
     },
     "execution_count": 61,
     "metadata": {},
     "output_type": "execute_result"
    }
   ],
   "source": [
    "obj_data.head()"
   ]
  },
  {
   "cell_type": "code",
   "execution_count": 62,
   "id": "cdce10f7-b765-438f-938b-a0f3e5f89304",
   "metadata": {},
   "outputs": [
    {
     "data": {
      "text/plain": [
       "multi_screen       int64\n",
       "mail_subscribed    int64\n",
       "Female             uint8\n",
       "Male               uint8\n",
       "dtype: object"
      ]
     },
     "execution_count": 62,
     "metadata": {},
     "output_type": "execute_result"
    }
   ],
   "source": [
    "# All the columns are numeric col now\n",
    "\n",
    "obj_data.dtypes"
   ]
  },
  {
   "cell_type": "code",
   "execution_count": 63,
   "id": "21926575-37cc-4a0a-a9de-ac67866d4bb9",
   "metadata": {},
   "outputs": [
    {
     "data": {
      "text/plain": [
       "year                        int64\n",
       "customer_id                 int64\n",
       "age                       float64\n",
       "no_of_days_subscribed     float64\n",
       "weekly_mins_watched       float64\n",
       "minimum_daily_mins        float64\n",
       "maximum_daily_mins        float64\n",
       "weekly_max_night_mins     float64\n",
       "videos_watched              int64\n",
       "maximum_days_inactive     float64\n",
       "customer_support_calls      int64\n",
       "churn                     float64\n",
       "dtype: object"
      ]
     },
     "execution_count": 63,
     "metadata": {},
     "output_type": "execute_result"
    }
   ],
   "source": [
    "num_data.dtypes"
   ]
  },
  {
   "cell_type": "code",
   "execution_count": null,
   "id": "754d8a32-14ba-4521-9464-8df73f2e72fa",
   "metadata": {},
   "outputs": [],
   "source": [
    "# We can concatenate num_data and obj_data to create Features"
   ]
  },
  {
   "cell_type": "code",
   "execution_count": 64,
   "id": "7afc874b-d51a-4819-9ec0-fd6975887ec3",
   "metadata": {},
   "outputs": [],
   "source": [
    "features = pd.concat([num_data, obj_data], axis = 1)"
   ]
  },
  {
   "cell_type": "code",
   "execution_count": 65,
   "id": "1537a368-d938-46b6-ba64-744fe168b942",
   "metadata": {},
   "outputs": [
    {
     "data": {
      "text/html": [
       "<div>\n",
       "<style scoped>\n",
       "    .dataframe tbody tr th:only-of-type {\n",
       "        vertical-align: middle;\n",
       "    }\n",
       "\n",
       "    .dataframe tbody tr th {\n",
       "        vertical-align: top;\n",
       "    }\n",
       "\n",
       "    .dataframe thead th {\n",
       "        text-align: right;\n",
       "    }\n",
       "</style>\n",
       "<table border=\"1\" class=\"dataframe\">\n",
       "  <thead>\n",
       "    <tr style=\"text-align: right;\">\n",
       "      <th></th>\n",
       "      <th>year</th>\n",
       "      <th>customer_id</th>\n",
       "      <th>age</th>\n",
       "      <th>no_of_days_subscribed</th>\n",
       "      <th>weekly_mins_watched</th>\n",
       "      <th>minimum_daily_mins</th>\n",
       "      <th>maximum_daily_mins</th>\n",
       "      <th>weekly_max_night_mins</th>\n",
       "      <th>videos_watched</th>\n",
       "      <th>maximum_days_inactive</th>\n",
       "      <th>customer_support_calls</th>\n",
       "      <th>churn</th>\n",
       "      <th>multi_screen</th>\n",
       "      <th>mail_subscribed</th>\n",
       "      <th>Female</th>\n",
       "      <th>Male</th>\n",
       "    </tr>\n",
       "  </thead>\n",
       "  <tbody>\n",
       "    <tr>\n",
       "      <th>0</th>\n",
       "      <td>2015</td>\n",
       "      <td>100198</td>\n",
       "      <td>36.0</td>\n",
       "      <td>62.0</td>\n",
       "      <td>148.35</td>\n",
       "      <td>12.2</td>\n",
       "      <td>16.81</td>\n",
       "      <td>82.0</td>\n",
       "      <td>1</td>\n",
       "      <td>4.0</td>\n",
       "      <td>1</td>\n",
       "      <td>0.0</td>\n",
       "      <td>0</td>\n",
       "      <td>0</td>\n",
       "      <td>1</td>\n",
       "      <td>0</td>\n",
       "    </tr>\n",
       "    <tr>\n",
       "      <th>1</th>\n",
       "      <td>2015</td>\n",
       "      <td>100643</td>\n",
       "      <td>39.0</td>\n",
       "      <td>149.0</td>\n",
       "      <td>294.45</td>\n",
       "      <td>7.7</td>\n",
       "      <td>33.37</td>\n",
       "      <td>87.0</td>\n",
       "      <td>3</td>\n",
       "      <td>3.0</td>\n",
       "      <td>2</td>\n",
       "      <td>0.0</td>\n",
       "      <td>0</td>\n",
       "      <td>0</td>\n",
       "      <td>1</td>\n",
       "      <td>0</td>\n",
       "    </tr>\n",
       "    <tr>\n",
       "      <th>2</th>\n",
       "      <td>2015</td>\n",
       "      <td>100756</td>\n",
       "      <td>62.0</td>\n",
       "      <td>126.0</td>\n",
       "      <td>87.30</td>\n",
       "      <td>11.9</td>\n",
       "      <td>9.89</td>\n",
       "      <td>91.0</td>\n",
       "      <td>1</td>\n",
       "      <td>4.0</td>\n",
       "      <td>5</td>\n",
       "      <td>1.0</td>\n",
       "      <td>0</td>\n",
       "      <td>0</td>\n",
       "      <td>1</td>\n",
       "      <td>0</td>\n",
       "    </tr>\n",
       "    <tr>\n",
       "      <th>3</th>\n",
       "      <td>2015</td>\n",
       "      <td>101595</td>\n",
       "      <td>24.0</td>\n",
       "      <td>131.0</td>\n",
       "      <td>321.30</td>\n",
       "      <td>9.5</td>\n",
       "      <td>36.41</td>\n",
       "      <td>102.0</td>\n",
       "      <td>4</td>\n",
       "      <td>3.0</td>\n",
       "      <td>3</td>\n",
       "      <td>0.0</td>\n",
       "      <td>0</td>\n",
       "      <td>1</td>\n",
       "      <td>1</td>\n",
       "      <td>0</td>\n",
       "    </tr>\n",
       "    <tr>\n",
       "      <th>4</th>\n",
       "      <td>2015</td>\n",
       "      <td>101653</td>\n",
       "      <td>40.0</td>\n",
       "      <td>191.0</td>\n",
       "      <td>243.00</td>\n",
       "      <td>10.9</td>\n",
       "      <td>27.54</td>\n",
       "      <td>83.0</td>\n",
       "      <td>7</td>\n",
       "      <td>3.0</td>\n",
       "      <td>1</td>\n",
       "      <td>0.0</td>\n",
       "      <td>0</td>\n",
       "      <td>0</td>\n",
       "      <td>1</td>\n",
       "      <td>0</td>\n",
       "    </tr>\n",
       "  </tbody>\n",
       "</table>\n",
       "</div>"
      ],
      "text/plain": [
       "   year  customer_id   age  no_of_days_subscribed  weekly_mins_watched  \\\n",
       "0  2015       100198  36.0                   62.0               148.35   \n",
       "1  2015       100643  39.0                  149.0               294.45   \n",
       "2  2015       100756  62.0                  126.0                87.30   \n",
       "3  2015       101595  24.0                  131.0               321.30   \n",
       "4  2015       101653  40.0                  191.0               243.00   \n",
       "\n",
       "   minimum_daily_mins  maximum_daily_mins  weekly_max_night_mins  \\\n",
       "0                12.2               16.81                   82.0   \n",
       "1                 7.7               33.37                   87.0   \n",
       "2                11.9                9.89                   91.0   \n",
       "3                 9.5               36.41                  102.0   \n",
       "4                10.9               27.54                   83.0   \n",
       "\n",
       "   videos_watched  maximum_days_inactive  customer_support_calls  churn  \\\n",
       "0               1                    4.0                       1    0.0   \n",
       "1               3                    3.0                       2    0.0   \n",
       "2               1                    4.0                       5    1.0   \n",
       "3               4                    3.0                       3    0.0   \n",
       "4               7                    3.0                       1    0.0   \n",
       "\n",
       "   multi_screen  mail_subscribed  Female  Male  \n",
       "0             0                0       1     0  \n",
       "1             0                0       1     0  \n",
       "2             0                0       1     0  \n",
       "3             0                1       1     0  \n",
       "4             0                0       1     0  "
      ]
     },
     "execution_count": 65,
     "metadata": {},
     "output_type": "execute_result"
    }
   ],
   "source": [
    "features.head()"
   ]
  },
  {
   "cell_type": "code",
   "execution_count": 66,
   "id": "e539731f-1384-4567-bef6-baf6e3d337e3",
   "metadata": {},
   "outputs": [],
   "source": [
    "# Drop Year and customer_id as they are useless for the model\n",
    "\n",
    "features.drop(['year', 'customer_id'], axis = 1, inplace = True)"
   ]
  },
  {
   "cell_type": "code",
   "execution_count": 67,
   "id": "de3530bd-9682-4116-b92f-ca0c86cc405e",
   "metadata": {},
   "outputs": [
    {
     "data": {
      "text/html": [
       "<div>\n",
       "<style scoped>\n",
       "    .dataframe tbody tr th:only-of-type {\n",
       "        vertical-align: middle;\n",
       "    }\n",
       "\n",
       "    .dataframe tbody tr th {\n",
       "        vertical-align: top;\n",
       "    }\n",
       "\n",
       "    .dataframe thead th {\n",
       "        text-align: right;\n",
       "    }\n",
       "</style>\n",
       "<table border=\"1\" class=\"dataframe\">\n",
       "  <thead>\n",
       "    <tr style=\"text-align: right;\">\n",
       "      <th></th>\n",
       "      <th>age</th>\n",
       "      <th>no_of_days_subscribed</th>\n",
       "      <th>weekly_mins_watched</th>\n",
       "      <th>minimum_daily_mins</th>\n",
       "      <th>maximum_daily_mins</th>\n",
       "      <th>weekly_max_night_mins</th>\n",
       "      <th>videos_watched</th>\n",
       "      <th>maximum_days_inactive</th>\n",
       "      <th>customer_support_calls</th>\n",
       "      <th>churn</th>\n",
       "      <th>multi_screen</th>\n",
       "      <th>mail_subscribed</th>\n",
       "      <th>Female</th>\n",
       "      <th>Male</th>\n",
       "    </tr>\n",
       "  </thead>\n",
       "  <tbody>\n",
       "    <tr>\n",
       "      <th>0</th>\n",
       "      <td>36.0</td>\n",
       "      <td>62.0</td>\n",
       "      <td>148.35</td>\n",
       "      <td>12.2</td>\n",
       "      <td>16.81</td>\n",
       "      <td>82.0</td>\n",
       "      <td>1</td>\n",
       "      <td>4.0</td>\n",
       "      <td>1</td>\n",
       "      <td>0.0</td>\n",
       "      <td>0</td>\n",
       "      <td>0</td>\n",
       "      <td>1</td>\n",
       "      <td>0</td>\n",
       "    </tr>\n",
       "    <tr>\n",
       "      <th>1</th>\n",
       "      <td>39.0</td>\n",
       "      <td>149.0</td>\n",
       "      <td>294.45</td>\n",
       "      <td>7.7</td>\n",
       "      <td>33.37</td>\n",
       "      <td>87.0</td>\n",
       "      <td>3</td>\n",
       "      <td>3.0</td>\n",
       "      <td>2</td>\n",
       "      <td>0.0</td>\n",
       "      <td>0</td>\n",
       "      <td>0</td>\n",
       "      <td>1</td>\n",
       "      <td>0</td>\n",
       "    </tr>\n",
       "    <tr>\n",
       "      <th>2</th>\n",
       "      <td>62.0</td>\n",
       "      <td>126.0</td>\n",
       "      <td>87.30</td>\n",
       "      <td>11.9</td>\n",
       "      <td>9.89</td>\n",
       "      <td>91.0</td>\n",
       "      <td>1</td>\n",
       "      <td>4.0</td>\n",
       "      <td>5</td>\n",
       "      <td>1.0</td>\n",
       "      <td>0</td>\n",
       "      <td>0</td>\n",
       "      <td>1</td>\n",
       "      <td>0</td>\n",
       "    </tr>\n",
       "    <tr>\n",
       "      <th>3</th>\n",
       "      <td>24.0</td>\n",
       "      <td>131.0</td>\n",
       "      <td>321.30</td>\n",
       "      <td>9.5</td>\n",
       "      <td>36.41</td>\n",
       "      <td>102.0</td>\n",
       "      <td>4</td>\n",
       "      <td>3.0</td>\n",
       "      <td>3</td>\n",
       "      <td>0.0</td>\n",
       "      <td>0</td>\n",
       "      <td>1</td>\n",
       "      <td>1</td>\n",
       "      <td>0</td>\n",
       "    </tr>\n",
       "    <tr>\n",
       "      <th>4</th>\n",
       "      <td>40.0</td>\n",
       "      <td>191.0</td>\n",
       "      <td>243.00</td>\n",
       "      <td>10.9</td>\n",
       "      <td>27.54</td>\n",
       "      <td>83.0</td>\n",
       "      <td>7</td>\n",
       "      <td>3.0</td>\n",
       "      <td>1</td>\n",
       "      <td>0.0</td>\n",
       "      <td>0</td>\n",
       "      <td>0</td>\n",
       "      <td>1</td>\n",
       "      <td>0</td>\n",
       "    </tr>\n",
       "  </tbody>\n",
       "</table>\n",
       "</div>"
      ],
      "text/plain": [
       "    age  no_of_days_subscribed  weekly_mins_watched  minimum_daily_mins  \\\n",
       "0  36.0                   62.0               148.35                12.2   \n",
       "1  39.0                  149.0               294.45                 7.7   \n",
       "2  62.0                  126.0                87.30                11.9   \n",
       "3  24.0                  131.0               321.30                 9.5   \n",
       "4  40.0                  191.0               243.00                10.9   \n",
       "\n",
       "   maximum_daily_mins  weekly_max_night_mins  videos_watched  \\\n",
       "0               16.81                   82.0               1   \n",
       "1               33.37                   87.0               3   \n",
       "2                9.89                   91.0               1   \n",
       "3               36.41                  102.0               4   \n",
       "4               27.54                   83.0               7   \n",
       "\n",
       "   maximum_days_inactive  customer_support_calls  churn  multi_screen  \\\n",
       "0                    4.0                       1    0.0             0   \n",
       "1                    3.0                       2    0.0             0   \n",
       "2                    4.0                       5    1.0             0   \n",
       "3                    3.0                       3    0.0             0   \n",
       "4                    3.0                       1    0.0             0   \n",
       "\n",
       "   mail_subscribed  Female  Male  \n",
       "0                0       1     0  \n",
       "1                0       1     0  \n",
       "2                0       1     0  \n",
       "3                1       1     0  \n",
       "4                0       1     0  "
      ]
     },
     "execution_count": 67,
     "metadata": {},
     "output_type": "execute_result"
    }
   ],
   "source": [
    "features.head()"
   ]
  },
  {
   "cell_type": "code",
   "execution_count": 68,
   "id": "81044a36-8e1c-42a4-9cd3-d0a698fcae03",
   "metadata": {},
   "outputs": [
    {
     "data": {
      "text/plain": [
       "(2000, 14)"
      ]
     },
     "execution_count": 68,
     "metadata": {},
     "output_type": "execute_result"
    }
   ],
   "source": [
    "features.shape"
   ]
  },
  {
   "cell_type": "markdown",
   "id": "5f06b23c-d4ce-43b1-a4e1-f43886ae1cc6",
   "metadata": {},
   "source": [
    "#### Divide this dataset into Features and Target"
   ]
  },
  {
   "cell_type": "code",
   "execution_count": 69,
   "id": "02b5a924-b799-4c03-8d65-a00615c229a9",
   "metadata": {},
   "outputs": [],
   "source": [
    "X = features.drop('churn', axis = 1)   # Drop the churn column as it is Target"
   ]
  },
  {
   "cell_type": "code",
   "execution_count": 70,
   "id": "ea2cddcd-6abf-44c3-8b6a-98b0cfd30978",
   "metadata": {},
   "outputs": [
    {
     "data": {
      "text/html": [
       "<div>\n",
       "<style scoped>\n",
       "    .dataframe tbody tr th:only-of-type {\n",
       "        vertical-align: middle;\n",
       "    }\n",
       "\n",
       "    .dataframe tbody tr th {\n",
       "        vertical-align: top;\n",
       "    }\n",
       "\n",
       "    .dataframe thead th {\n",
       "        text-align: right;\n",
       "    }\n",
       "</style>\n",
       "<table border=\"1\" class=\"dataframe\">\n",
       "  <thead>\n",
       "    <tr style=\"text-align: right;\">\n",
       "      <th></th>\n",
       "      <th>age</th>\n",
       "      <th>no_of_days_subscribed</th>\n",
       "      <th>weekly_mins_watched</th>\n",
       "      <th>minimum_daily_mins</th>\n",
       "      <th>maximum_daily_mins</th>\n",
       "      <th>weekly_max_night_mins</th>\n",
       "      <th>videos_watched</th>\n",
       "      <th>maximum_days_inactive</th>\n",
       "      <th>customer_support_calls</th>\n",
       "      <th>multi_screen</th>\n",
       "      <th>mail_subscribed</th>\n",
       "      <th>Female</th>\n",
       "      <th>Male</th>\n",
       "    </tr>\n",
       "  </thead>\n",
       "  <tbody>\n",
       "    <tr>\n",
       "      <th>0</th>\n",
       "      <td>36.0</td>\n",
       "      <td>62.0</td>\n",
       "      <td>148.35</td>\n",
       "      <td>12.2</td>\n",
       "      <td>16.81</td>\n",
       "      <td>82.0</td>\n",
       "      <td>1</td>\n",
       "      <td>4.0</td>\n",
       "      <td>1</td>\n",
       "      <td>0</td>\n",
       "      <td>0</td>\n",
       "      <td>1</td>\n",
       "      <td>0</td>\n",
       "    </tr>\n",
       "    <tr>\n",
       "      <th>1</th>\n",
       "      <td>39.0</td>\n",
       "      <td>149.0</td>\n",
       "      <td>294.45</td>\n",
       "      <td>7.7</td>\n",
       "      <td>33.37</td>\n",
       "      <td>87.0</td>\n",
       "      <td>3</td>\n",
       "      <td>3.0</td>\n",
       "      <td>2</td>\n",
       "      <td>0</td>\n",
       "      <td>0</td>\n",
       "      <td>1</td>\n",
       "      <td>0</td>\n",
       "    </tr>\n",
       "    <tr>\n",
       "      <th>2</th>\n",
       "      <td>62.0</td>\n",
       "      <td>126.0</td>\n",
       "      <td>87.30</td>\n",
       "      <td>11.9</td>\n",
       "      <td>9.89</td>\n",
       "      <td>91.0</td>\n",
       "      <td>1</td>\n",
       "      <td>4.0</td>\n",
       "      <td>5</td>\n",
       "      <td>0</td>\n",
       "      <td>0</td>\n",
       "      <td>1</td>\n",
       "      <td>0</td>\n",
       "    </tr>\n",
       "    <tr>\n",
       "      <th>3</th>\n",
       "      <td>24.0</td>\n",
       "      <td>131.0</td>\n",
       "      <td>321.30</td>\n",
       "      <td>9.5</td>\n",
       "      <td>36.41</td>\n",
       "      <td>102.0</td>\n",
       "      <td>4</td>\n",
       "      <td>3.0</td>\n",
       "      <td>3</td>\n",
       "      <td>0</td>\n",
       "      <td>1</td>\n",
       "      <td>1</td>\n",
       "      <td>0</td>\n",
       "    </tr>\n",
       "    <tr>\n",
       "      <th>4</th>\n",
       "      <td>40.0</td>\n",
       "      <td>191.0</td>\n",
       "      <td>243.00</td>\n",
       "      <td>10.9</td>\n",
       "      <td>27.54</td>\n",
       "      <td>83.0</td>\n",
       "      <td>7</td>\n",
       "      <td>3.0</td>\n",
       "      <td>1</td>\n",
       "      <td>0</td>\n",
       "      <td>0</td>\n",
       "      <td>1</td>\n",
       "      <td>0</td>\n",
       "    </tr>\n",
       "  </tbody>\n",
       "</table>\n",
       "</div>"
      ],
      "text/plain": [
       "    age  no_of_days_subscribed  weekly_mins_watched  minimum_daily_mins  \\\n",
       "0  36.0                   62.0               148.35                12.2   \n",
       "1  39.0                  149.0               294.45                 7.7   \n",
       "2  62.0                  126.0                87.30                11.9   \n",
       "3  24.0                  131.0               321.30                 9.5   \n",
       "4  40.0                  191.0               243.00                10.9   \n",
       "\n",
       "   maximum_daily_mins  weekly_max_night_mins  videos_watched  \\\n",
       "0               16.81                   82.0               1   \n",
       "1               33.37                   87.0               3   \n",
       "2                9.89                   91.0               1   \n",
       "3               36.41                  102.0               4   \n",
       "4               27.54                   83.0               7   \n",
       "\n",
       "   maximum_days_inactive  customer_support_calls  multi_screen  \\\n",
       "0                    4.0                       1             0   \n",
       "1                    3.0                       2             0   \n",
       "2                    4.0                       5             0   \n",
       "3                    3.0                       3             0   \n",
       "4                    3.0                       1             0   \n",
       "\n",
       "   mail_subscribed  Female  Male  \n",
       "0                0       1     0  \n",
       "1                0       1     0  \n",
       "2                0       1     0  \n",
       "3                1       1     0  \n",
       "4                0       1     0  "
      ]
     },
     "execution_count": 70,
     "metadata": {},
     "output_type": "execute_result"
    }
   ],
   "source": [
    "X.head()"
   ]
  },
  {
   "cell_type": "code",
   "execution_count": 71,
   "id": "20bdf6a7-ae23-4b3d-8826-92571c5bd779",
   "metadata": {},
   "outputs": [],
   "source": [
    "y = features.churn"
   ]
  },
  {
   "cell_type": "code",
   "execution_count": 72,
   "id": "7f3af605-aea0-468a-b9ed-14d09b7bcc2a",
   "metadata": {},
   "outputs": [
    {
     "data": {
      "text/plain": [
       "0    0.0\n",
       "1    0.0\n",
       "2    1.0\n",
       "3    0.0\n",
       "4    0.0\n",
       "Name: churn, dtype: float64"
      ]
     },
     "execution_count": 72,
     "metadata": {},
     "output_type": "execute_result"
    }
   ],
   "source": [
    "y.head()"
   ]
  },
  {
   "cell_type": "code",
   "execution_count": 101,
   "id": "f2335020-b423-47b0-bbcd-cd6249595e3b",
   "metadata": {},
   "outputs": [],
   "source": [
    "# Training data (Features and Target)\n",
    "# Test data (Features - we pass this features to the model and get prediction)\n",
    "\n",
    "# We will split the data into Training and Test\n",
    "# - 80% Training data\n",
    "# - 20% Test data"
   ]
  },
  {
   "cell_type": "code",
   "execution_count": 74,
   "id": "0cf54888-d0fa-486d-83bb-c9e28ad2ccd6",
   "metadata": {},
   "outputs": [],
   "source": [
    "from sklearn.model_selection import train_test_split"
   ]
  },
  {
   "cell_type": "code",
   "execution_count": 75,
   "id": "fdf8102b-7af1-49d3-a3ff-c28441985c01",
   "metadata": {},
   "outputs": [],
   "source": [
    "X_train, X_test, y_train, y_test = train_test_split(X,y,test_size=0.2)  # splitting into 80-20 ratio"
   ]
  },
  {
   "cell_type": "code",
   "execution_count": 76,
   "id": "b3936ea7-f08f-4e61-88da-fb000ce478b0",
   "metadata": {},
   "outputs": [
    {
     "data": {
      "text/html": [
       "<div>\n",
       "<style scoped>\n",
       "    .dataframe tbody tr th:only-of-type {\n",
       "        vertical-align: middle;\n",
       "    }\n",
       "\n",
       "    .dataframe tbody tr th {\n",
       "        vertical-align: top;\n",
       "    }\n",
       "\n",
       "    .dataframe thead th {\n",
       "        text-align: right;\n",
       "    }\n",
       "</style>\n",
       "<table border=\"1\" class=\"dataframe\">\n",
       "  <thead>\n",
       "    <tr style=\"text-align: right;\">\n",
       "      <th></th>\n",
       "      <th>age</th>\n",
       "      <th>no_of_days_subscribed</th>\n",
       "      <th>weekly_mins_watched</th>\n",
       "      <th>minimum_daily_mins</th>\n",
       "      <th>maximum_daily_mins</th>\n",
       "      <th>weekly_max_night_mins</th>\n",
       "      <th>videos_watched</th>\n",
       "      <th>maximum_days_inactive</th>\n",
       "      <th>customer_support_calls</th>\n",
       "      <th>multi_screen</th>\n",
       "      <th>mail_subscribed</th>\n",
       "      <th>Female</th>\n",
       "      <th>Male</th>\n",
       "    </tr>\n",
       "  </thead>\n",
       "  <tbody>\n",
       "    <tr>\n",
       "      <th>1811</th>\n",
       "      <td>29.0</td>\n",
       "      <td>119.0</td>\n",
       "      <td>325.80</td>\n",
       "      <td>11.3</td>\n",
       "      <td>36.92</td>\n",
       "      <td>85.0</td>\n",
       "      <td>4</td>\n",
       "      <td>4.0</td>\n",
       "      <td>0</td>\n",
       "      <td>0</td>\n",
       "      <td>1</td>\n",
       "      <td>1</td>\n",
       "      <td>0</td>\n",
       "    </tr>\n",
       "    <tr>\n",
       "      <th>580</th>\n",
       "      <td>34.0</td>\n",
       "      <td>168.0</td>\n",
       "      <td>193.20</td>\n",
       "      <td>11.2</td>\n",
       "      <td>21.90</td>\n",
       "      <td>128.0</td>\n",
       "      <td>2</td>\n",
       "      <td>4.0</td>\n",
       "      <td>1</td>\n",
       "      <td>0</td>\n",
       "      <td>0</td>\n",
       "      <td>0</td>\n",
       "      <td>1</td>\n",
       "    </tr>\n",
       "    <tr>\n",
       "      <th>185</th>\n",
       "      <td>40.0</td>\n",
       "      <td>72.0</td>\n",
       "      <td>139.20</td>\n",
       "      <td>5.8</td>\n",
       "      <td>15.78</td>\n",
       "      <td>83.0</td>\n",
       "      <td>7</td>\n",
       "      <td>2.0</td>\n",
       "      <td>1</td>\n",
       "      <td>0</td>\n",
       "      <td>1</td>\n",
       "      <td>0</td>\n",
       "      <td>1</td>\n",
       "    </tr>\n",
       "    <tr>\n",
       "      <th>140</th>\n",
       "      <td>36.0</td>\n",
       "      <td>92.0</td>\n",
       "      <td>396.45</td>\n",
       "      <td>9.3</td>\n",
       "      <td>44.93</td>\n",
       "      <td>73.0</td>\n",
       "      <td>5</td>\n",
       "      <td>3.0</td>\n",
       "      <td>0</td>\n",
       "      <td>1</td>\n",
       "      <td>0</td>\n",
       "      <td>0</td>\n",
       "      <td>1</td>\n",
       "    </tr>\n",
       "    <tr>\n",
       "      <th>1841</th>\n",
       "      <td>42.0</td>\n",
       "      <td>135.0</td>\n",
       "      <td>302.70</td>\n",
       "      <td>10.3</td>\n",
       "      <td>34.31</td>\n",
       "      <td>82.0</td>\n",
       "      <td>6</td>\n",
       "      <td>3.0</td>\n",
       "      <td>1</td>\n",
       "      <td>0</td>\n",
       "      <td>0</td>\n",
       "      <td>1</td>\n",
       "      <td>0</td>\n",
       "    </tr>\n",
       "    <tr>\n",
       "      <th>...</th>\n",
       "      <td>...</td>\n",
       "      <td>...</td>\n",
       "      <td>...</td>\n",
       "      <td>...</td>\n",
       "      <td>...</td>\n",
       "      <td>...</td>\n",
       "      <td>...</td>\n",
       "      <td>...</td>\n",
       "      <td>...</td>\n",
       "      <td>...</td>\n",
       "      <td>...</td>\n",
       "      <td>...</td>\n",
       "      <td>...</td>\n",
       "    </tr>\n",
       "    <tr>\n",
       "      <th>1873</th>\n",
       "      <td>35.0</td>\n",
       "      <td>97.0</td>\n",
       "      <td>181.20</td>\n",
       "      <td>11.9</td>\n",
       "      <td>20.54</td>\n",
       "      <td>63.0</td>\n",
       "      <td>3</td>\n",
       "      <td>4.0</td>\n",
       "      <td>4</td>\n",
       "      <td>0</td>\n",
       "      <td>0</td>\n",
       "      <td>1</td>\n",
       "      <td>0</td>\n",
       "    </tr>\n",
       "    <tr>\n",
       "      <th>344</th>\n",
       "      <td>30.0</td>\n",
       "      <td>141.0</td>\n",
       "      <td>323.10</td>\n",
       "      <td>7.8</td>\n",
       "      <td>36.62</td>\n",
       "      <td>89.0</td>\n",
       "      <td>6</td>\n",
       "      <td>3.0</td>\n",
       "      <td>1</td>\n",
       "      <td>0</td>\n",
       "      <td>1</td>\n",
       "      <td>1</td>\n",
       "      <td>0</td>\n",
       "    </tr>\n",
       "    <tr>\n",
       "      <th>1917</th>\n",
       "      <td>50.0</td>\n",
       "      <td>64.0</td>\n",
       "      <td>329.40</td>\n",
       "      <td>9.7</td>\n",
       "      <td>37.33</td>\n",
       "      <td>65.0</td>\n",
       "      <td>5</td>\n",
       "      <td>3.0</td>\n",
       "      <td>1</td>\n",
       "      <td>0</td>\n",
       "      <td>0</td>\n",
       "      <td>1</td>\n",
       "      <td>0</td>\n",
       "    </tr>\n",
       "    <tr>\n",
       "      <th>1636</th>\n",
       "      <td>36.0</td>\n",
       "      <td>127.0</td>\n",
       "      <td>353.40</td>\n",
       "      <td>7.7</td>\n",
       "      <td>40.05</td>\n",
       "      <td>127.0</td>\n",
       "      <td>2</td>\n",
       "      <td>3.0</td>\n",
       "      <td>1</td>\n",
       "      <td>0</td>\n",
       "      <td>1</td>\n",
       "      <td>1</td>\n",
       "      <td>0</td>\n",
       "    </tr>\n",
       "    <tr>\n",
       "      <th>780</th>\n",
       "      <td>57.0</td>\n",
       "      <td>84.0</td>\n",
       "      <td>238.50</td>\n",
       "      <td>12.3</td>\n",
       "      <td>27.03</td>\n",
       "      <td>101.0</td>\n",
       "      <td>5</td>\n",
       "      <td>4.0</td>\n",
       "      <td>1</td>\n",
       "      <td>0</td>\n",
       "      <td>0</td>\n",
       "      <td>0</td>\n",
       "      <td>1</td>\n",
       "    </tr>\n",
       "  </tbody>\n",
       "</table>\n",
       "<p>1600 rows × 13 columns</p>\n",
       "</div>"
      ],
      "text/plain": [
       "       age  no_of_days_subscribed  weekly_mins_watched  minimum_daily_mins  \\\n",
       "1811  29.0                  119.0               325.80                11.3   \n",
       "580   34.0                  168.0               193.20                11.2   \n",
       "185   40.0                   72.0               139.20                 5.8   \n",
       "140   36.0                   92.0               396.45                 9.3   \n",
       "1841  42.0                  135.0               302.70                10.3   \n",
       "...    ...                    ...                  ...                 ...   \n",
       "1873  35.0                   97.0               181.20                11.9   \n",
       "344   30.0                  141.0               323.10                 7.8   \n",
       "1917  50.0                   64.0               329.40                 9.7   \n",
       "1636  36.0                  127.0               353.40                 7.7   \n",
       "780   57.0                   84.0               238.50                12.3   \n",
       "\n",
       "      maximum_daily_mins  weekly_max_night_mins  videos_watched  \\\n",
       "1811               36.92                   85.0               4   \n",
       "580                21.90                  128.0               2   \n",
       "185                15.78                   83.0               7   \n",
       "140                44.93                   73.0               5   \n",
       "1841               34.31                   82.0               6   \n",
       "...                  ...                    ...             ...   \n",
       "1873               20.54                   63.0               3   \n",
       "344                36.62                   89.0               6   \n",
       "1917               37.33                   65.0               5   \n",
       "1636               40.05                  127.0               2   \n",
       "780                27.03                  101.0               5   \n",
       "\n",
       "      maximum_days_inactive  customer_support_calls  multi_screen  \\\n",
       "1811                    4.0                       0             0   \n",
       "580                     4.0                       1             0   \n",
       "185                     2.0                       1             0   \n",
       "140                     3.0                       0             1   \n",
       "1841                    3.0                       1             0   \n",
       "...                     ...                     ...           ...   \n",
       "1873                    4.0                       4             0   \n",
       "344                     3.0                       1             0   \n",
       "1917                    3.0                       1             0   \n",
       "1636                    3.0                       1             0   \n",
       "780                     4.0                       1             0   \n",
       "\n",
       "      mail_subscribed  Female  Male  \n",
       "1811                1       1     0  \n",
       "580                 0       0     1  \n",
       "185                 1       0     1  \n",
       "140                 0       0     1  \n",
       "1841                0       1     0  \n",
       "...               ...     ...   ...  \n",
       "1873                0       1     0  \n",
       "344                 1       1     0  \n",
       "1917                0       1     0  \n",
       "1636                1       1     0  \n",
       "780                 0       0     1  \n",
       "\n",
       "[1600 rows x 13 columns]"
      ]
     },
     "execution_count": 76,
     "metadata": {},
     "output_type": "execute_result"
    }
   ],
   "source": [
    "X_train"
   ]
  },
  {
   "cell_type": "code",
   "execution_count": 77,
   "id": "2d606bb9-fe36-4fa6-a4da-bc8cec341972",
   "metadata": {},
   "outputs": [
    {
     "data": {
      "text/plain": [
       "1811    0.0\n",
       "580     0.0\n",
       "185     0.0\n",
       "140     0.0\n",
       "1841    0.0\n",
       "       ... \n",
       "1873    1.0\n",
       "344     0.0\n",
       "1917    0.0\n",
       "1636    0.0\n",
       "780     0.0\n",
       "Name: churn, Length: 1600, dtype: float64"
      ]
     },
     "execution_count": 77,
     "metadata": {},
     "output_type": "execute_result"
    }
   ],
   "source": [
    "y_train"
   ]
  },
  {
   "cell_type": "code",
   "execution_count": 78,
   "id": "dfb24db4-2aed-45d1-8195-c374fbc63604",
   "metadata": {},
   "outputs": [
    {
     "data": {
      "text/html": [
       "<div>\n",
       "<style scoped>\n",
       "    .dataframe tbody tr th:only-of-type {\n",
       "        vertical-align: middle;\n",
       "    }\n",
       "\n",
       "    .dataframe tbody tr th {\n",
       "        vertical-align: top;\n",
       "    }\n",
       "\n",
       "    .dataframe thead th {\n",
       "        text-align: right;\n",
       "    }\n",
       "</style>\n",
       "<table border=\"1\" class=\"dataframe\">\n",
       "  <thead>\n",
       "    <tr style=\"text-align: right;\">\n",
       "      <th></th>\n",
       "      <th>age</th>\n",
       "      <th>no_of_days_subscribed</th>\n",
       "      <th>weekly_mins_watched</th>\n",
       "      <th>minimum_daily_mins</th>\n",
       "      <th>maximum_daily_mins</th>\n",
       "      <th>weekly_max_night_mins</th>\n",
       "      <th>videos_watched</th>\n",
       "      <th>maximum_days_inactive</th>\n",
       "      <th>customer_support_calls</th>\n",
       "      <th>multi_screen</th>\n",
       "      <th>mail_subscribed</th>\n",
       "      <th>Female</th>\n",
       "      <th>Male</th>\n",
       "    </tr>\n",
       "  </thead>\n",
       "  <tbody>\n",
       "    <tr>\n",
       "      <th>379</th>\n",
       "      <td>29.0</td>\n",
       "      <td>182.0</td>\n",
       "      <td>157.35</td>\n",
       "      <td>8.0</td>\n",
       "      <td>17.83</td>\n",
       "      <td>91.0</td>\n",
       "      <td>5</td>\n",
       "      <td>3.0</td>\n",
       "      <td>2</td>\n",
       "      <td>0</td>\n",
       "      <td>0</td>\n",
       "      <td>1</td>\n",
       "      <td>0</td>\n",
       "    </tr>\n",
       "    <tr>\n",
       "      <th>899</th>\n",
       "      <td>30.0</td>\n",
       "      <td>96.0</td>\n",
       "      <td>296.55</td>\n",
       "      <td>10.5</td>\n",
       "      <td>33.61</td>\n",
       "      <td>67.0</td>\n",
       "      <td>3</td>\n",
       "      <td>3.0</td>\n",
       "      <td>3</td>\n",
       "      <td>0</td>\n",
       "      <td>0</td>\n",
       "      <td>0</td>\n",
       "      <td>1</td>\n",
       "    </tr>\n",
       "    <tr>\n",
       "      <th>881</th>\n",
       "      <td>35.0</td>\n",
       "      <td>79.0</td>\n",
       "      <td>155.55</td>\n",
       "      <td>14.8</td>\n",
       "      <td>17.63</td>\n",
       "      <td>102.0</td>\n",
       "      <td>4</td>\n",
       "      <td>4.0</td>\n",
       "      <td>2</td>\n",
       "      <td>0</td>\n",
       "      <td>1</td>\n",
       "      <td>1</td>\n",
       "      <td>0</td>\n",
       "    </tr>\n",
       "    <tr>\n",
       "      <th>1346</th>\n",
       "      <td>21.0</td>\n",
       "      <td>33.0</td>\n",
       "      <td>280.20</td>\n",
       "      <td>15.0</td>\n",
       "      <td>31.76</td>\n",
       "      <td>103.0</td>\n",
       "      <td>5</td>\n",
       "      <td>5.0</td>\n",
       "      <td>0</td>\n",
       "      <td>0</td>\n",
       "      <td>1</td>\n",
       "      <td>0</td>\n",
       "      <td>1</td>\n",
       "    </tr>\n",
       "    <tr>\n",
       "      <th>441</th>\n",
       "      <td>34.0</td>\n",
       "      <td>115.0</td>\n",
       "      <td>374.85</td>\n",
       "      <td>15.3</td>\n",
       "      <td>42.48</td>\n",
       "      <td>121.0</td>\n",
       "      <td>6</td>\n",
       "      <td>5.0</td>\n",
       "      <td>1</td>\n",
       "      <td>1</td>\n",
       "      <td>0</td>\n",
       "      <td>1</td>\n",
       "      <td>0</td>\n",
       "    </tr>\n",
       "    <tr>\n",
       "      <th>...</th>\n",
       "      <td>...</td>\n",
       "      <td>...</td>\n",
       "      <td>...</td>\n",
       "      <td>...</td>\n",
       "      <td>...</td>\n",
       "      <td>...</td>\n",
       "      <td>...</td>\n",
       "      <td>...</td>\n",
       "      <td>...</td>\n",
       "      <td>...</td>\n",
       "      <td>...</td>\n",
       "      <td>...</td>\n",
       "      <td>...</td>\n",
       "    </tr>\n",
       "    <tr>\n",
       "      <th>607</th>\n",
       "      <td>53.0</td>\n",
       "      <td>118.0</td>\n",
       "      <td>401.70</td>\n",
       "      <td>14.4</td>\n",
       "      <td>45.53</td>\n",
       "      <td>91.0</td>\n",
       "      <td>11</td>\n",
       "      <td>4.0</td>\n",
       "      <td>5</td>\n",
       "      <td>0</td>\n",
       "      <td>0</td>\n",
       "      <td>0</td>\n",
       "      <td>1</td>\n",
       "    </tr>\n",
       "    <tr>\n",
       "      <th>1296</th>\n",
       "      <td>52.0</td>\n",
       "      <td>85.0</td>\n",
       "      <td>248.70</td>\n",
       "      <td>10.9</td>\n",
       "      <td>28.19</td>\n",
       "      <td>116.0</td>\n",
       "      <td>3</td>\n",
       "      <td>3.0</td>\n",
       "      <td>5</td>\n",
       "      <td>0</td>\n",
       "      <td>0</td>\n",
       "      <td>0</td>\n",
       "      <td>1</td>\n",
       "    </tr>\n",
       "    <tr>\n",
       "      <th>693</th>\n",
       "      <td>33.0</td>\n",
       "      <td>113.0</td>\n",
       "      <td>236.70</td>\n",
       "      <td>8.7</td>\n",
       "      <td>26.83</td>\n",
       "      <td>100.0</td>\n",
       "      <td>2</td>\n",
       "      <td>3.0</td>\n",
       "      <td>5</td>\n",
       "      <td>0</td>\n",
       "      <td>1</td>\n",
       "      <td>0</td>\n",
       "      <td>1</td>\n",
       "    </tr>\n",
       "    <tr>\n",
       "      <th>198</th>\n",
       "      <td>36.0</td>\n",
       "      <td>113.0</td>\n",
       "      <td>91.80</td>\n",
       "      <td>13.7</td>\n",
       "      <td>10.40</td>\n",
       "      <td>114.0</td>\n",
       "      <td>3</td>\n",
       "      <td>4.0</td>\n",
       "      <td>5</td>\n",
       "      <td>0</td>\n",
       "      <td>0</td>\n",
       "      <td>1</td>\n",
       "      <td>0</td>\n",
       "    </tr>\n",
       "    <tr>\n",
       "      <th>1586</th>\n",
       "      <td>30.0</td>\n",
       "      <td>127.0</td>\n",
       "      <td>249.00</td>\n",
       "      <td>10.2</td>\n",
       "      <td>28.22</td>\n",
       "      <td>68.0</td>\n",
       "      <td>6</td>\n",
       "      <td>3.0</td>\n",
       "      <td>1</td>\n",
       "      <td>0</td>\n",
       "      <td>1</td>\n",
       "      <td>1</td>\n",
       "      <td>0</td>\n",
       "    </tr>\n",
       "  </tbody>\n",
       "</table>\n",
       "<p>400 rows × 13 columns</p>\n",
       "</div>"
      ],
      "text/plain": [
       "       age  no_of_days_subscribed  weekly_mins_watched  minimum_daily_mins  \\\n",
       "379   29.0                  182.0               157.35                 8.0   \n",
       "899   30.0                   96.0               296.55                10.5   \n",
       "881   35.0                   79.0               155.55                14.8   \n",
       "1346  21.0                   33.0               280.20                15.0   \n",
       "441   34.0                  115.0               374.85                15.3   \n",
       "...    ...                    ...                  ...                 ...   \n",
       "607   53.0                  118.0               401.70                14.4   \n",
       "1296  52.0                   85.0               248.70                10.9   \n",
       "693   33.0                  113.0               236.70                 8.7   \n",
       "198   36.0                  113.0                91.80                13.7   \n",
       "1586  30.0                  127.0               249.00                10.2   \n",
       "\n",
       "      maximum_daily_mins  weekly_max_night_mins  videos_watched  \\\n",
       "379                17.83                   91.0               5   \n",
       "899                33.61                   67.0               3   \n",
       "881                17.63                  102.0               4   \n",
       "1346               31.76                  103.0               5   \n",
       "441                42.48                  121.0               6   \n",
       "...                  ...                    ...             ...   \n",
       "607                45.53                   91.0              11   \n",
       "1296               28.19                  116.0               3   \n",
       "693                26.83                  100.0               2   \n",
       "198                10.40                  114.0               3   \n",
       "1586               28.22                   68.0               6   \n",
       "\n",
       "      maximum_days_inactive  customer_support_calls  multi_screen  \\\n",
       "379                     3.0                       2             0   \n",
       "899                     3.0                       3             0   \n",
       "881                     4.0                       2             0   \n",
       "1346                    5.0                       0             0   \n",
       "441                     5.0                       1             1   \n",
       "...                     ...                     ...           ...   \n",
       "607                     4.0                       5             0   \n",
       "1296                    3.0                       5             0   \n",
       "693                     3.0                       5             0   \n",
       "198                     4.0                       5             0   \n",
       "1586                    3.0                       1             0   \n",
       "\n",
       "      mail_subscribed  Female  Male  \n",
       "379                 0       1     0  \n",
       "899                 0       0     1  \n",
       "881                 1       1     0  \n",
       "1346                1       0     1  \n",
       "441                 0       1     0  \n",
       "...               ...     ...   ...  \n",
       "607                 0       0     1  \n",
       "1296                0       0     1  \n",
       "693                 1       0     1  \n",
       "198                 0       1     0  \n",
       "1586                1       1     0  \n",
       "\n",
       "[400 rows x 13 columns]"
      ]
     },
     "execution_count": 78,
     "metadata": {},
     "output_type": "execute_result"
    }
   ],
   "source": [
    "X_test"
   ]
  },
  {
   "cell_type": "code",
   "execution_count": 79,
   "id": "9e566a6b-d9e3-4248-be75-4e3dacb1f07c",
   "metadata": {},
   "outputs": [
    {
     "data": {
      "text/plain": [
       "379     0.0\n",
       "899     0.0\n",
       "881     0.0\n",
       "1346    0.0\n",
       "441     1.0\n",
       "       ... \n",
       "607     1.0\n",
       "1296    1.0\n",
       "693     1.0\n",
       "198     1.0\n",
       "1586    0.0\n",
       "Name: churn, Length: 400, dtype: float64"
      ]
     },
     "execution_count": 79,
     "metadata": {},
     "output_type": "execute_result"
    }
   ],
   "source": [
    "y_test"
   ]
  },
  {
   "cell_type": "code",
   "execution_count": 80,
   "id": "30111dc2-fe9b-45a2-b5a3-cbe539247bda",
   "metadata": {},
   "outputs": [],
   "source": [
    "# Data Model\n",
    "\n",
    "# Train features(X_train)\n",
    "# Train target(y_train)"
   ]
  },
  {
   "cell_type": "markdown",
   "id": "afb7ef00-b721-4763-b867-b4fd499c951a",
   "metadata": {},
   "source": [
    "### ***Data Modelling***"
   ]
  },
  {
   "cell_type": "code",
   "execution_count": 81,
   "id": "d82ae930-ccbe-491f-9808-ac06456008b8",
   "metadata": {},
   "outputs": [],
   "source": [
    "# Logistic Regression\n",
    "# Decision Tree"
   ]
  },
  {
   "cell_type": "markdown",
   "id": "97823240-0741-42ad-a246-2af0302cc2df",
   "metadata": {},
   "source": [
    "#### **Logistic Regression**"
   ]
  },
  {
   "cell_type": "markdown",
   "id": "33c13861-8f8d-4ea5-88ad-dd749f863f84",
   "metadata": {},
   "source": [
    "- Importing the Model"
   ]
  },
  {
   "cell_type": "code",
   "execution_count": 82,
   "id": "ee4f029b-d4a4-42d2-b92a-fe755940d058",
   "metadata": {},
   "outputs": [],
   "source": [
    "from sklearn.linear_model import LogisticRegression"
   ]
  },
  {
   "cell_type": "code",
   "execution_count": 83,
   "id": "153547fb-1003-4695-bf5b-d78a3eb5e4af",
   "metadata": {},
   "outputs": [],
   "source": [
    "log_reg = LogisticRegression()"
   ]
  },
  {
   "cell_type": "markdown",
   "id": "44bc9d16-e8ab-49dd-8c12-1e58f7677df4",
   "metadata": {},
   "source": [
    "- Fitting the Model"
   ]
  },
  {
   "cell_type": "code",
   "execution_count": 84,
   "id": "893e0177-6fe9-4fb2-939c-b0ba062bc8e0",
   "metadata": {},
   "outputs": [
    {
     "data": {
      "text/html": [
       "<style>#sk-container-id-1 {color: black;background-color: white;}#sk-container-id-1 pre{padding: 0;}#sk-container-id-1 div.sk-toggleable {background-color: white;}#sk-container-id-1 label.sk-toggleable__label {cursor: pointer;display: block;width: 100%;margin-bottom: 0;padding: 0.3em;box-sizing: border-box;text-align: center;}#sk-container-id-1 label.sk-toggleable__label-arrow:before {content: \"▸\";float: left;margin-right: 0.25em;color: #696969;}#sk-container-id-1 label.sk-toggleable__label-arrow:hover:before {color: black;}#sk-container-id-1 div.sk-estimator:hover label.sk-toggleable__label-arrow:before {color: black;}#sk-container-id-1 div.sk-toggleable__content {max-height: 0;max-width: 0;overflow: hidden;text-align: left;background-color: #f0f8ff;}#sk-container-id-1 div.sk-toggleable__content pre {margin: 0.2em;color: black;border-radius: 0.25em;background-color: #f0f8ff;}#sk-container-id-1 input.sk-toggleable__control:checked~div.sk-toggleable__content {max-height: 200px;max-width: 100%;overflow: auto;}#sk-container-id-1 input.sk-toggleable__control:checked~label.sk-toggleable__label-arrow:before {content: \"▾\";}#sk-container-id-1 div.sk-estimator input.sk-toggleable__control:checked~label.sk-toggleable__label {background-color: #d4ebff;}#sk-container-id-1 div.sk-label input.sk-toggleable__control:checked~label.sk-toggleable__label {background-color: #d4ebff;}#sk-container-id-1 input.sk-hidden--visually {border: 0;clip: rect(1px 1px 1px 1px);clip: rect(1px, 1px, 1px, 1px);height: 1px;margin: -1px;overflow: hidden;padding: 0;position: absolute;width: 1px;}#sk-container-id-1 div.sk-estimator {font-family: monospace;background-color: #f0f8ff;border: 1px dotted black;border-radius: 0.25em;box-sizing: border-box;margin-bottom: 0.5em;}#sk-container-id-1 div.sk-estimator:hover {background-color: #d4ebff;}#sk-container-id-1 div.sk-parallel-item::after {content: \"\";width: 100%;border-bottom: 1px solid gray;flex-grow: 1;}#sk-container-id-1 div.sk-label:hover label.sk-toggleable__label {background-color: #d4ebff;}#sk-container-id-1 div.sk-serial::before {content: \"\";position: absolute;border-left: 1px solid gray;box-sizing: border-box;top: 0;bottom: 0;left: 50%;z-index: 0;}#sk-container-id-1 div.sk-serial {display: flex;flex-direction: column;align-items: center;background-color: white;padding-right: 0.2em;padding-left: 0.2em;position: relative;}#sk-container-id-1 div.sk-item {position: relative;z-index: 1;}#sk-container-id-1 div.sk-parallel {display: flex;align-items: stretch;justify-content: center;background-color: white;position: relative;}#sk-container-id-1 div.sk-item::before, #sk-container-id-1 div.sk-parallel-item::before {content: \"\";position: absolute;border-left: 1px solid gray;box-sizing: border-box;top: 0;bottom: 0;left: 50%;z-index: -1;}#sk-container-id-1 div.sk-parallel-item {display: flex;flex-direction: column;z-index: 1;position: relative;background-color: white;}#sk-container-id-1 div.sk-parallel-item:first-child::after {align-self: flex-end;width: 50%;}#sk-container-id-1 div.sk-parallel-item:last-child::after {align-self: flex-start;width: 50%;}#sk-container-id-1 div.sk-parallel-item:only-child::after {width: 0;}#sk-container-id-1 div.sk-dashed-wrapped {border: 1px dashed gray;margin: 0 0.4em 0.5em 0.4em;box-sizing: border-box;padding-bottom: 0.4em;background-color: white;}#sk-container-id-1 div.sk-label label {font-family: monospace;font-weight: bold;display: inline-block;line-height: 1.2em;}#sk-container-id-1 div.sk-label-container {text-align: center;}#sk-container-id-1 div.sk-container {/* jupyter's `normalize.less` sets `[hidden] { display: none; }` but bootstrap.min.css set `[hidden] { display: none !important; }` so we also need the `!important` here to be able to override the default hidden behavior on the sphinx rendered scikit-learn.org. See: https://github.com/scikit-learn/scikit-learn/issues/21755 */display: inline-block !important;position: relative;}#sk-container-id-1 div.sk-text-repr-fallback {display: none;}</style><div id=\"sk-container-id-1\" class=\"sk-top-container\"><div class=\"sk-text-repr-fallback\"><pre>LogisticRegression()</pre><b>In a Jupyter environment, please rerun this cell to show the HTML representation or trust the notebook. <br />On GitHub, the HTML representation is unable to render, please try loading this page with nbviewer.org.</b></div><div class=\"sk-container\" hidden><div class=\"sk-item\"><div class=\"sk-estimator sk-toggleable\"><input class=\"sk-toggleable__control sk-hidden--visually\" id=\"sk-estimator-id-1\" type=\"checkbox\" checked><label for=\"sk-estimator-id-1\" class=\"sk-toggleable__label sk-toggleable__label-arrow\">LogisticRegression</label><div class=\"sk-toggleable__content\"><pre>LogisticRegression()</pre></div></div></div></div></div>"
      ],
      "text/plain": [
       "LogisticRegression()"
      ]
     },
     "execution_count": 84,
     "metadata": {},
     "output_type": "execute_result"
    }
   ],
   "source": [
    "log_reg.fit(X_train, y_train)"
   ]
  },
  {
   "cell_type": "markdown",
   "id": "b6c8f566-7511-482d-82e5-8604fd371c30",
   "metadata": {},
   "source": [
    "- Prediction from Model"
   ]
  },
  {
   "cell_type": "code",
   "execution_count": 85,
   "id": "6907ed7c-7ad1-4aa3-ac56-24d1980d73b7",
   "metadata": {},
   "outputs": [],
   "source": [
    "# on the test data we'll get the prediction"
   ]
  },
  {
   "cell_type": "code",
   "execution_count": 86,
   "id": "7d6668ef-d73f-4571-aebe-6a9e7b45be6f",
   "metadata": {},
   "outputs": [
    {
     "data": {
      "text/plain": [
       "array([0., 0., 0., 0., 0., 0., 0., 0., 0., 1., 0., 0., 0., 0., 0., 0., 0.,\n",
       "       0., 0., 0., 0., 0., 0., 0., 0., 0., 0., 0., 0., 0., 0., 0., 0., 0.,\n",
       "       0., 0., 0., 0., 0., 0., 0., 0., 0., 0., 0., 0., 0., 0., 0., 0., 0.,\n",
       "       0., 0., 0., 0., 0., 1., 0., 0., 0., 0., 0., 0., 0., 1., 0., 0., 0.,\n",
       "       0., 0., 0., 0., 0., 0., 0., 0., 0., 0., 0., 0., 0., 0., 0., 0., 0.,\n",
       "       0., 0., 0., 0., 0., 0., 0., 0., 0., 0., 0., 0., 0., 0., 1., 0., 0.,\n",
       "       1., 0., 0., 0., 0., 0., 0., 0., 0., 0., 0., 0., 0., 0., 0., 0., 0.,\n",
       "       0., 0., 0., 1., 0., 0., 0., 0., 0., 0., 0., 0., 0., 0., 0., 0., 0.,\n",
       "       0., 0., 0., 0., 0., 0., 0., 0., 0., 0., 0., 0., 0., 0., 0., 0., 0.,\n",
       "       0., 0., 0., 0., 0., 0., 0., 0., 0., 0., 0., 0., 0., 0., 1., 0., 0.,\n",
       "       0., 0., 0., 0., 0., 1., 0., 0., 0., 0., 0., 0., 0., 0., 0., 0., 0.,\n",
       "       0., 0., 0., 0., 0., 0., 0., 0., 0., 0., 0., 0., 0., 0., 0., 0., 0.,\n",
       "       0., 0., 0., 1., 0., 0., 0., 0., 0., 0., 0., 0., 0., 0., 0., 0., 0.,\n",
       "       0., 0., 0., 0., 0., 0., 0., 0., 0., 0., 0., 0., 0., 0., 0., 0., 0.,\n",
       "       0., 0., 0., 0., 0., 0., 0., 0., 0., 0., 0., 0., 0., 0., 0., 0., 0.,\n",
       "       0., 0., 0., 0., 0., 0., 0., 0., 0., 0., 0., 0., 0., 0., 0., 0., 0.,\n",
       "       1., 0., 0., 0., 0., 0., 0., 0., 0., 0., 0., 0., 0., 0., 0., 0., 0.,\n",
       "       0., 0., 0., 0., 0., 0., 0., 0., 0., 1., 0., 0., 0., 0., 0., 0., 0.,\n",
       "       0., 0., 0., 0., 0., 0., 0., 0., 0., 0., 0., 0., 0., 0., 0., 0., 0.,\n",
       "       0., 0., 0., 0., 0., 0., 0., 0., 0., 0., 0., 0., 1., 0., 0., 0., 0.,\n",
       "       0., 0., 0., 0., 0., 0., 0., 0., 0., 0., 0., 0., 0., 0., 0., 0., 0.,\n",
       "       0., 1., 0., 0., 0., 0., 0., 0., 0., 0., 0., 0., 0., 0., 0., 0., 0.,\n",
       "       0., 0., 0., 0., 0., 0., 0., 0., 0., 0., 0., 0., 0., 0., 0., 0., 0.,\n",
       "       0., 0., 0., 0., 0., 0., 0., 0., 0.])"
      ]
     },
     "execution_count": 86,
     "metadata": {},
     "output_type": "execute_result"
    }
   ],
   "source": [
    "log_reg.predict(X_test)"
   ]
  },
  {
   "cell_type": "markdown",
   "id": "1d6ab761-6adc-45af-b524-94a8e5c2dc0f",
   "metadata": {},
   "source": [
    "- Check the Accuracy "
   ]
  },
  {
   "cell_type": "code",
   "execution_count": 87,
   "id": "e965df01-e120-472b-a4e1-e7115678c814",
   "metadata": {},
   "outputs": [],
   "source": [
    "# matching the prediction with y_test to check the efficiency of model"
   ]
  },
  {
   "cell_type": "code",
   "execution_count": 88,
   "id": "10675ee9-5bb4-416d-83b2-19942716bd4c",
   "metadata": {},
   "outputs": [
    {
     "data": {
      "text/plain": [
       "0.8375"
      ]
     },
     "execution_count": 88,
     "metadata": {},
     "output_type": "execute_result"
    }
   ],
   "source": [
    "log_reg.score(X_test, y_test)"
   ]
  },
  {
   "cell_type": "code",
   "execution_count": 102,
   "id": "ffe602ef-b0fd-4885-a1a7-4361fa591721",
   "metadata": {},
   "outputs": [],
   "source": [
    "# Remarks: We got 85% accuracy after training the logistic regression model"
   ]
  },
  {
   "cell_type": "markdown",
   "id": "ca0aa557-fe36-454e-b966-56019030dee2",
   "metadata": {},
   "source": [
    "#### **Decision Tree**"
   ]
  },
  {
   "cell_type": "markdown",
   "id": "e6ef68cd-709f-4ee4-9cae-4fbbd5cfe513",
   "metadata": {},
   "source": [
    "- Importing the Decision Tree model"
   ]
  },
  {
   "cell_type": "code",
   "execution_count": 90,
   "id": "79726780-3a40-4c52-b033-486a6a967f5b",
   "metadata": {},
   "outputs": [],
   "source": [
    "from sklearn.tree import DecisionTreeClassifier"
   ]
  },
  {
   "cell_type": "code",
   "execution_count": 91,
   "id": "09818b31-7d33-4f42-8f4f-793ee3f7e9c5",
   "metadata": {},
   "outputs": [],
   "source": [
    "dec_tree = DecisionTreeClassifier()"
   ]
  },
  {
   "cell_type": "markdown",
   "id": "72142d9e-b69e-4972-8952-df5a3eaeaf45",
   "metadata": {},
   "source": [
    "- Fitting the model"
   ]
  },
  {
   "cell_type": "code",
   "execution_count": 93,
   "id": "eec908d6-c190-49a6-a714-b979cc8e79e7",
   "metadata": {},
   "outputs": [
    {
     "data": {
      "text/html": [
       "<style>#sk-container-id-2 {color: black;background-color: white;}#sk-container-id-2 pre{padding: 0;}#sk-container-id-2 div.sk-toggleable {background-color: white;}#sk-container-id-2 label.sk-toggleable__label {cursor: pointer;display: block;width: 100%;margin-bottom: 0;padding: 0.3em;box-sizing: border-box;text-align: center;}#sk-container-id-2 label.sk-toggleable__label-arrow:before {content: \"▸\";float: left;margin-right: 0.25em;color: #696969;}#sk-container-id-2 label.sk-toggleable__label-arrow:hover:before {color: black;}#sk-container-id-2 div.sk-estimator:hover label.sk-toggleable__label-arrow:before {color: black;}#sk-container-id-2 div.sk-toggleable__content {max-height: 0;max-width: 0;overflow: hidden;text-align: left;background-color: #f0f8ff;}#sk-container-id-2 div.sk-toggleable__content pre {margin: 0.2em;color: black;border-radius: 0.25em;background-color: #f0f8ff;}#sk-container-id-2 input.sk-toggleable__control:checked~div.sk-toggleable__content {max-height: 200px;max-width: 100%;overflow: auto;}#sk-container-id-2 input.sk-toggleable__control:checked~label.sk-toggleable__label-arrow:before {content: \"▾\";}#sk-container-id-2 div.sk-estimator input.sk-toggleable__control:checked~label.sk-toggleable__label {background-color: #d4ebff;}#sk-container-id-2 div.sk-label input.sk-toggleable__control:checked~label.sk-toggleable__label {background-color: #d4ebff;}#sk-container-id-2 input.sk-hidden--visually {border: 0;clip: rect(1px 1px 1px 1px);clip: rect(1px, 1px, 1px, 1px);height: 1px;margin: -1px;overflow: hidden;padding: 0;position: absolute;width: 1px;}#sk-container-id-2 div.sk-estimator {font-family: monospace;background-color: #f0f8ff;border: 1px dotted black;border-radius: 0.25em;box-sizing: border-box;margin-bottom: 0.5em;}#sk-container-id-2 div.sk-estimator:hover {background-color: #d4ebff;}#sk-container-id-2 div.sk-parallel-item::after {content: \"\";width: 100%;border-bottom: 1px solid gray;flex-grow: 1;}#sk-container-id-2 div.sk-label:hover label.sk-toggleable__label {background-color: #d4ebff;}#sk-container-id-2 div.sk-serial::before {content: \"\";position: absolute;border-left: 1px solid gray;box-sizing: border-box;top: 0;bottom: 0;left: 50%;z-index: 0;}#sk-container-id-2 div.sk-serial {display: flex;flex-direction: column;align-items: center;background-color: white;padding-right: 0.2em;padding-left: 0.2em;position: relative;}#sk-container-id-2 div.sk-item {position: relative;z-index: 1;}#sk-container-id-2 div.sk-parallel {display: flex;align-items: stretch;justify-content: center;background-color: white;position: relative;}#sk-container-id-2 div.sk-item::before, #sk-container-id-2 div.sk-parallel-item::before {content: \"\";position: absolute;border-left: 1px solid gray;box-sizing: border-box;top: 0;bottom: 0;left: 50%;z-index: -1;}#sk-container-id-2 div.sk-parallel-item {display: flex;flex-direction: column;z-index: 1;position: relative;background-color: white;}#sk-container-id-2 div.sk-parallel-item:first-child::after {align-self: flex-end;width: 50%;}#sk-container-id-2 div.sk-parallel-item:last-child::after {align-self: flex-start;width: 50%;}#sk-container-id-2 div.sk-parallel-item:only-child::after {width: 0;}#sk-container-id-2 div.sk-dashed-wrapped {border: 1px dashed gray;margin: 0 0.4em 0.5em 0.4em;box-sizing: border-box;padding-bottom: 0.4em;background-color: white;}#sk-container-id-2 div.sk-label label {font-family: monospace;font-weight: bold;display: inline-block;line-height: 1.2em;}#sk-container-id-2 div.sk-label-container {text-align: center;}#sk-container-id-2 div.sk-container {/* jupyter's `normalize.less` sets `[hidden] { display: none; }` but bootstrap.min.css set `[hidden] { display: none !important; }` so we also need the `!important` here to be able to override the default hidden behavior on the sphinx rendered scikit-learn.org. See: https://github.com/scikit-learn/scikit-learn/issues/21755 */display: inline-block !important;position: relative;}#sk-container-id-2 div.sk-text-repr-fallback {display: none;}</style><div id=\"sk-container-id-2\" class=\"sk-top-container\"><div class=\"sk-text-repr-fallback\"><pre>DecisionTreeClassifier()</pre><b>In a Jupyter environment, please rerun this cell to show the HTML representation or trust the notebook. <br />On GitHub, the HTML representation is unable to render, please try loading this page with nbviewer.org.</b></div><div class=\"sk-container\" hidden><div class=\"sk-item\"><div class=\"sk-estimator sk-toggleable\"><input class=\"sk-toggleable__control sk-hidden--visually\" id=\"sk-estimator-id-2\" type=\"checkbox\" checked><label for=\"sk-estimator-id-2\" class=\"sk-toggleable__label sk-toggleable__label-arrow\">DecisionTreeClassifier</label><div class=\"sk-toggleable__content\"><pre>DecisionTreeClassifier()</pre></div></div></div></div></div>"
      ],
      "text/plain": [
       "DecisionTreeClassifier()"
      ]
     },
     "execution_count": 93,
     "metadata": {},
     "output_type": "execute_result"
    }
   ],
   "source": [
    "dec_tree.fit(X_train, y_train)"
   ]
  },
  {
   "cell_type": "markdown",
   "id": "3ddfd584-543e-49be-ab66-b57a18e45ecd",
   "metadata": {},
   "source": [
    "- Prediction from Model"
   ]
  },
  {
   "cell_type": "code",
   "execution_count": 94,
   "id": "8cd1f35f-704c-4c2f-8bbb-1ebff8529d3a",
   "metadata": {},
   "outputs": [
    {
     "data": {
      "text/plain": [
       "array([0., 0., 1., 0., 1., 0., 0., 0., 0., 0., 1., 0., 1., 0., 0., 0., 0.,\n",
       "       0., 0., 0., 0., 0., 0., 0., 0., 0., 0., 0., 0., 0., 0., 0., 1., 0.,\n",
       "       0., 0., 0., 0., 0., 1., 0., 1., 0., 0., 0., 0., 0., 0., 0., 0., 0.,\n",
       "       0., 0., 1., 0., 0., 1., 0., 0., 0., 1., 0., 0., 0., 1., 0., 0., 0.,\n",
       "       0., 1., 0., 0., 0., 0., 0., 1., 0., 0., 0., 0., 0., 0., 0., 1., 0.,\n",
       "       0., 0., 0., 0., 1., 0., 0., 1., 0., 0., 0., 0., 0., 0., 0., 0., 1.,\n",
       "       0., 0., 0., 0., 1., 0., 0., 1., 0., 0., 0., 0., 1., 0., 1., 0., 0.,\n",
       "       1., 0., 0., 1., 0., 0., 0., 0., 0., 0., 0., 0., 0., 0., 0., 0., 0.,\n",
       "       0., 1., 0., 0., 0., 0., 0., 0., 0., 1., 0., 0., 0., 1., 0., 0., 0.,\n",
       "       0., 0., 1., 0., 0., 1., 0., 0., 1., 0., 0., 0., 0., 1., 0., 0., 0.,\n",
       "       0., 0., 0., 1., 1., 1., 0., 0., 0., 0., 0., 0., 0., 0., 1., 1., 0.,\n",
       "       0., 0., 0., 0., 0., 1., 0., 0., 0., 1., 0., 1., 0., 0., 0., 1., 0.,\n",
       "       0., 0., 0., 1., 0., 0., 0., 0., 0., 0., 0., 0., 1., 0., 0., 1., 0.,\n",
       "       0., 0., 0., 0., 1., 0., 0., 1., 0., 0., 0., 0., 1., 0., 0., 0., 0.,\n",
       "       0., 0., 0., 0., 0., 0., 0., 0., 0., 0., 0., 0., 0., 0., 1., 0., 0.,\n",
       "       0., 1., 0., 0., 0., 0., 0., 0., 0., 0., 0., 0., 0., 1., 0., 0., 0.,\n",
       "       1., 0., 0., 1., 0., 0., 0., 0., 0., 0., 1., 0., 0., 0., 0., 0., 0.,\n",
       "       0., 0., 0., 0., 0., 0., 0., 0., 1., 0., 0., 0., 0., 0., 1., 1., 0.,\n",
       "       1., 0., 0., 0., 0., 0., 0., 0., 0., 0., 0., 0., 1., 0., 0., 0., 1.,\n",
       "       0., 1., 0., 0., 1., 0., 0., 0., 0., 0., 0., 0., 1., 0., 0., 0., 0.,\n",
       "       0., 1., 0., 0., 0., 0., 0., 0., 0., 0., 0., 0., 0., 0., 0., 0., 0.,\n",
       "       0., 1., 0., 0., 0., 1., 0., 0., 0., 0., 0., 0., 0., 0., 0., 0., 0.,\n",
       "       0., 0., 0., 0., 0., 0., 0., 1., 0., 1., 1., 0., 0., 1., 0., 1., 0.,\n",
       "       1., 1., 0., 0., 1., 0., 1., 1., 0.])"
      ]
     },
     "execution_count": 94,
     "metadata": {},
     "output_type": "execute_result"
    }
   ],
   "source": [
    "dec_tree.predict(X_test)"
   ]
  },
  {
   "cell_type": "markdown",
   "id": "cd6631f3-3bef-49f7-bbab-f08a704e8031",
   "metadata": {},
   "source": [
    "- Accuracy Check"
   ]
  },
  {
   "cell_type": "code",
   "execution_count": 95,
   "id": "c1646bac-4c5f-4d03-8fbb-3a7b636971bc",
   "metadata": {},
   "outputs": [
    {
     "data": {
      "text/plain": [
       "0.8125"
      ]
     },
     "execution_count": 95,
     "metadata": {},
     "output_type": "execute_result"
    }
   ],
   "source": [
    "dec_tree.score(X_test, y_test)"
   ]
  },
  {
   "cell_type": "code",
   "execution_count": 97,
   "id": "a6310903-e2bb-413a-962d-1f3da2215510",
   "metadata": {},
   "outputs": [],
   "source": [
    "# Remarks: We got 83% Accuracy after training the Decision Tree model"
   ]
  },
  {
   "cell_type": "markdown",
   "id": "26244d87-b013-4c51-902d-88eac8c4e0a9",
   "metadata": {},
   "source": [
    "#### Conclusion: For this Study, Logistic Regression Model is better."
   ]
  },
  {
   "cell_type": "markdown",
   "id": "0b2800c7-d13f-4d2f-b1a1-e8438eeefd2d",
   "metadata": {},
   "source": [
    "#### -------------- END ------------- ####"
   ]
  }
 ],
 "metadata": {
  "kernelspec": {
   "display_name": "Python 3 (ipykernel)",
   "language": "python",
   "name": "python3"
  },
  "language_info": {
   "codemirror_mode": {
    "name": "ipython",
    "version": 3
   },
   "file_extension": ".py",
   "mimetype": "text/x-python",
   "name": "python",
   "nbconvert_exporter": "python",
   "pygments_lexer": "ipython3",
   "version": "3.9.12"
  }
 },
 "nbformat": 4,
 "nbformat_minor": 5
}
